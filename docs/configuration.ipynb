{
 "cells": [
  {
   "cell_type": "markdown",
   "id": "1989849e-4907-477f-8f35-a37173e7894e",
   "metadata": {},
   "source": [
    "# Configuration\n",
    "\n",
    "The demand model is all about looking at transitions between different placement types for different ages. To make this more informative, we group both ages and placement types into broader AgeBrackets and PlacementCategories. Although default values are provided for these, they can easily be tweaked for custom models.\n"
   ]
  },
  {
   "cell_type": "markdown",
   "id": "e9e09fb1-b016-42af-a5cf-558042f70b9e",
   "metadata": {},
   "source": [
    "## Default configuration\n",
    "\n",
    "To use the default values, simply instantiate the Config class"
   ]
  },
  {
   "cell_type": "code",
   "execution_count": 2,
   "id": "f13e268e-0acb-487f-9243-7816505a5989",
   "metadata": {},
   "outputs": [],
   "source": [
    "from cs_demand_model import Config\n",
    "\n",
    "c = Config()"
   ]
  },
  {
   "cell_type": "markdown",
   "id": "a657a42d-61a0-4de6-bae8-6b5050e480da",
   "metadata": {},
   "source": [
    "We now have handles to all the core groups"
   ]
  },
  {
   "cell_type": "code",
   "execution_count": 3,
   "id": "0af8cd4e-9e15-4069-b2b5-20eb40d0abc1",
   "metadata": {},
   "outputs": [
    {
     "data": {
      "text/plain": [
       "<enum 'AgeBrackets'>"
      ]
     },
     "execution_count": 3,
     "metadata": {},
     "output_type": "execute_result"
    }
   ],
   "source": [
    "AgeBrackets = c.AgeBrackets\n",
    "AgeBrackets"
   ]
  },
  {
   "cell_type": "code",
   "execution_count": 4,
   "id": "ce1adf22-cc6e-4ce3-aa15-23ac157cf7c5",
   "metadata": {},
   "outputs": [
    {
     "data": {
      "text/plain": [
       "[<AgeBrackets.BIRTH_TO_ONE: Birth to 1>,\n",
       " <AgeBrackets.ONE_TO_FIVE: 1 to 5>,\n",
       " <AgeBrackets.FIVE_TO_TEN: 5 to 10>,\n",
       " <AgeBrackets.TEN_TO_SIXTEEN: 10 to 16>,\n",
       " <AgeBrackets.SIXTEEN_TO_EIGHTEEN: 16 to 18+>]"
      ]
     },
     "execution_count": 4,
     "metadata": {},
     "output_type": "execute_result"
    }
   ],
   "source": [
    "[a for a in AgeBrackets]"
   ]
  },
  {
   "cell_type": "code",
   "execution_count": 5,
   "id": "6ca4e2e0-00e1-47d8-885f-da2062682c5d",
   "metadata": {},
   "outputs": [
    {
     "data": {
      "text/plain": [
       "<enum 'PlacementCategories'>"
      ]
     },
     "execution_count": 5,
     "metadata": {},
     "output_type": "execute_result"
    }
   ],
   "source": [
    "PlacementCategories = c.PlacementCategories\n",
    "PlacementCategories"
   ]
  },
  {
   "cell_type": "code",
   "execution_count": 6,
   "id": "3e6f8f02-76b0-46d8-817c-4704d18704d8",
   "metadata": {},
   "outputs": [
    {
     "data": {
      "text/plain": [
       "[<PlacementCategories.FOSTERING: Foster>,\n",
       " <PlacementCategories.RESIDENTIAL: Resi>,\n",
       " <PlacementCategories.SUPPORTED: Supported>,\n",
       " <PlacementCategories.OTHER: Other>,\n",
       " <PlacementCategories.NOT_IN_CARE: Not in care>]"
      ]
     },
     "execution_count": 6,
     "metadata": {},
     "output_type": "execute_result"
    }
   ],
   "source": [
    "[p for p in PlacementCategories]"
   ]
  },
  {
   "cell_type": "markdown",
   "id": "0c262a22-f273-434a-a124-c60c0bc84846",
   "metadata": {},
   "source": [
    "In addition we have a few descriptive items, and useful constants"
   ]
  },
  {
   "cell_type": "code",
   "execution_count": 7,
   "id": "03f7a3ad-ac86-439b-8346-17f165fb1ba6",
   "metadata": {},
   "outputs": [
    {
     "data": {
      "text/plain": [
       "365.24"
      ]
     },
     "execution_count": 7,
     "metadata": {},
     "output_type": "execute_result"
    }
   ],
   "source": [
    "c.year_in_days"
   ]
  },
  {
   "cell_type": "code",
   "execution_count": 8,
   "id": "d46ec5c0-fe1b-4bb3-9c4b-58d713f2563d",
   "metadata": {},
   "outputs": [
    {
     "data": {
      "text/plain": [
       "'Standard 903 Demand Modelling Configuration'"
      ]
     },
     "execution_count": 8,
     "metadata": {},
     "output_type": "execute_result"
    }
   ],
   "source": [
    "c.name"
   ]
  },
  {
   "cell_type": "code",
   "execution_count": 9,
   "id": "8c72ed3f-6b72-4588-9109-a14f09b86aa9",
   "metadata": {},
   "outputs": [
    {
     "data": {
      "text/plain": [
       "1.0"
      ]
     },
     "execution_count": 9,
     "metadata": {},
     "output_type": "execute_result"
    }
   ],
   "source": [
    "c.version"
   ]
  },
  {
   "cell_type": "markdown",
   "id": "f00b661c-f83b-47fe-95ba-3f75137e2ba4",
   "metadata": {},
   "source": [
    "## States & Transitions\n",
    "\n",
    "Not all placements are valid for all ages, and in addition we have the two \"special\" types of OTHER (catch-all) and NOT_IN_CARE (not a state, but valid transition end-point). \n",
    "\n",
    "Most of the dataframes we use for analysis are indexed either by the valid states or transitions. We therefore can also get these from the configuration."
   ]
  },
  {
   "cell_type": "code",
   "execution_count": 11,
   "id": "f9bfee09-2f9a-4509-8a8b-b1c2105b1749",
   "metadata": {},
   "outputs": [
    {
     "data": {
      "text/plain": [
       "[State(age_bin=<AgeBrackets.BIRTH_TO_ONE: Birth to 1>, placement_type=<PlacementCategories.FOSTERING: Foster>),\n",
       " State(age_bin=<AgeBrackets.BIRTH_TO_ONE: Birth to 1>, placement_type=<PlacementCategories.OTHER: Other>),\n",
       " State(age_bin=<AgeBrackets.ONE_TO_FIVE: 1 to 5>, placement_type=<PlacementCategories.FOSTERING: Foster>),\n",
       " State(age_bin=<AgeBrackets.ONE_TO_FIVE: 1 to 5>, placement_type=<PlacementCategories.OTHER: Other>),\n",
       " State(age_bin=<AgeBrackets.FIVE_TO_TEN: 5 to 10>, placement_type=<PlacementCategories.FOSTERING: Foster>),\n",
       " State(age_bin=<AgeBrackets.FIVE_TO_TEN: 5 to 10>, placement_type=<PlacementCategories.RESIDENTIAL: Resi>),\n",
       " State(age_bin=<AgeBrackets.FIVE_TO_TEN: 5 to 10>, placement_type=<PlacementCategories.OTHER: Other>),\n",
       " State(age_bin=<AgeBrackets.TEN_TO_SIXTEEN: 10 to 16>, placement_type=<PlacementCategories.FOSTERING: Foster>),\n",
       " State(age_bin=<AgeBrackets.TEN_TO_SIXTEEN: 10 to 16>, placement_type=<PlacementCategories.RESIDENTIAL: Resi>),\n",
       " State(age_bin=<AgeBrackets.TEN_TO_SIXTEEN: 10 to 16>, placement_type=<PlacementCategories.OTHER: Other>),\n",
       " State(age_bin=<AgeBrackets.SIXTEEN_TO_EIGHTEEN: 16 to 18+>, placement_type=<PlacementCategories.FOSTERING: Foster>),\n",
       " State(age_bin=<AgeBrackets.SIXTEEN_TO_EIGHTEEN: 16 to 18+>, placement_type=<PlacementCategories.RESIDENTIAL: Resi>),\n",
       " State(age_bin=<AgeBrackets.SIXTEEN_TO_EIGHTEEN: 16 to 18+>, placement_type=<PlacementCategories.SUPPORTED: Supported>),\n",
       " State(age_bin=<AgeBrackets.SIXTEEN_TO_EIGHTEEN: 16 to 18+>, placement_type=<PlacementCategories.OTHER: Other>)]"
      ]
     },
     "execution_count": 11,
     "metadata": {},
     "output_type": "execute_result"
    }
   ],
   "source": [
    "list(c.states())"
   ]
  },
  {
   "cell_type": "markdown",
   "id": "c0adb97a-46fb-465c-9b5e-ac0612845339",
   "metadata": {},
   "source": [
    "We can also get them as pandas multi-index"
   ]
  },
  {
   "cell_type": "code",
   "execution_count": 12,
   "id": "d696aeaf-76f3-4fcc-8dbd-8eda636279fc",
   "metadata": {},
   "outputs": [
    {
     "data": {
      "text/plain": [
       "MultiIndex([(Birth to 1,    Foster),\n",
       "            (Birth to 1,     Other),\n",
       "            (    1 to 5,    Foster),\n",
       "            (    1 to 5,     Other),\n",
       "            (   5 to 10,    Foster),\n",
       "            (   5 to 10,      Resi),\n",
       "            (   5 to 10,     Other),\n",
       "            (  10 to 16,    Foster),\n",
       "            (  10 to 16,      Resi),\n",
       "            (  10 to 16,     Other),\n",
       "            ( 16 to 18+,    Foster),\n",
       "            ( 16 to 18+,      Resi),\n",
       "            ( 16 to 18+, Supported),\n",
       "            ( 16 to 18+,     Other)],\n",
       "           names=['age_bin', 'placement_type'])"
      ]
     },
     "execution_count": 12,
     "metadata": {},
     "output_type": "execute_result"
    }
   ],
   "source": [
    "c.states(as_index=True)"
   ]
  },
  {
   "cell_type": "markdown",
   "id": "ef16b39f-f713-48cb-8765-6117b512aa3d",
   "metadata": {},
   "source": [
    "And we have a similar model for transitions, with the key difference that we can tweak which transitions we want included"
   ]
  },
  {
   "cell_type": "code",
   "execution_count": 22,
   "id": "daa4bf4d-f9ff-423e-acad-57528b926da7",
   "metadata": {},
   "outputs": [
    {
     "name": "stdout",
     "output_type": "stream",
     "text": [
      "Birth to 1: Foster->Foster\n",
      "Birth to 1: Foster->Other\n",
      "Birth to 1: Other->Foster\n",
      "Birth to 1: Other->Other\n",
      "1 to 5: Foster->Foster\n",
      "1 to 5: Foster->Other\n",
      "1 to 5: Other->Foster\n",
      "1 to 5: Other->Other\n",
      "5 to 10: Foster->Foster\n",
      "5 to 10: Foster->Resi\n",
      "5 to 10: Foster->Other\n",
      "5 to 10: Resi->Foster\n",
      "5 to 10: Resi->Resi\n",
      "5 to 10: Resi->Other\n",
      "5 to 10: Other->Foster\n",
      "5 to 10: Other->Resi\n",
      "5 to 10: Other->Other\n",
      "10 to 16: Foster->Foster\n",
      "10 to 16: Foster->Resi\n",
      "10 to 16: Foster->Other\n",
      "10 to 16: Resi->Foster\n",
      "10 to 16: Resi->Resi\n",
      "10 to 16: Resi->Other\n",
      "10 to 16: Other->Foster\n",
      "10 to 16: Other->Resi\n",
      "10 to 16: Other->Other\n",
      "16 to 18+: Foster->Foster\n",
      "16 to 18+: Foster->Resi\n",
      "16 to 18+: Foster->Supported\n",
      "16 to 18+: Foster->Other\n",
      "16 to 18+: Resi->Foster\n",
      "16 to 18+: Resi->Resi\n",
      "16 to 18+: Resi->Supported\n",
      "16 to 18+: Resi->Other\n",
      "16 to 18+: Supported->Foster\n",
      "16 to 18+: Supported->Resi\n",
      "16 to 18+: Supported->Supported\n",
      "16 to 18+: Supported->Other\n",
      "16 to 18+: Other->Foster\n",
      "16 to 18+: Other->Resi\n",
      "16 to 18+: Other->Supported\n",
      "16 to 18+: Other->Other\n"
     ]
    }
   ],
   "source": [
    "for t in c.transitions():\n",
    "    print(f\"{t.age_bin}: {t.placement_type}->{t.placement_type_after}\")"
   ]
  },
  {
   "cell_type": "code",
   "execution_count": 23,
   "id": "9fd0f6f6-4f04-4821-9b86-402a35dc521e",
   "metadata": {},
   "outputs": [
    {
     "name": "stdout",
     "output_type": "stream",
     "text": [
      "Birth to 1: Foster->Other\n",
      "Birth to 1: Other->Foster\n",
      "1 to 5: Foster->Other\n",
      "1 to 5: Other->Foster\n",
      "5 to 10: Foster->Resi\n",
      "5 to 10: Foster->Other\n",
      "5 to 10: Resi->Foster\n",
      "5 to 10: Resi->Other\n",
      "5 to 10: Other->Foster\n",
      "5 to 10: Other->Resi\n",
      "10 to 16: Foster->Resi\n",
      "10 to 16: Foster->Other\n",
      "10 to 16: Resi->Foster\n",
      "10 to 16: Resi->Other\n",
      "10 to 16: Other->Foster\n",
      "10 to 16: Other->Resi\n",
      "16 to 18+: Foster->Resi\n",
      "16 to 18+: Foster->Supported\n",
      "16 to 18+: Foster->Other\n",
      "16 to 18+: Resi->Foster\n",
      "16 to 18+: Resi->Supported\n",
      "16 to 18+: Resi->Other\n",
      "16 to 18+: Supported->Foster\n",
      "16 to 18+: Supported->Resi\n",
      "16 to 18+: Supported->Other\n",
      "16 to 18+: Other->Foster\n",
      "16 to 18+: Other->Resi\n",
      "16 to 18+: Other->Supported\n"
     ]
    }
   ],
   "source": [
    "for t in c.transitions(self_transitions=False):\n",
    "    print(f\"{t.age_bin}: {t.placement_type}->{t.placement_type_after}\")"
   ]
  },
  {
   "cell_type": "code",
   "execution_count": 24,
   "id": "7cf4606f-b3d7-4b5a-824a-3ea92f591fb9",
   "metadata": {},
   "outputs": [
    {
     "name": "stdout",
     "output_type": "stream",
     "text": [
      "Birth to 1: Foster->Foster\n",
      "Birth to 1: Other->Other\n",
      "1 to 5: Foster->Foster\n",
      "1 to 5: Other->Other\n",
      "5 to 10: Foster->Foster\n",
      "5 to 10: Resi->Resi\n",
      "5 to 10: Other->Other\n",
      "10 to 16: Foster->Foster\n",
      "10 to 16: Resi->Resi\n",
      "10 to 16: Other->Other\n",
      "16 to 18+: Foster->Foster\n",
      "16 to 18+: Resi->Resi\n",
      "16 to 18+: Supported->Supported\n",
      "16 to 18+: Other->Other\n"
     ]
    }
   ],
   "source": [
    "for t in c.transitions(other_transitions=False):\n",
    "    print(f\"{t.age_bin}: {t.placement_type}->{t.placement_type_after}\")"
   ]
  },
  {
   "cell_type": "markdown",
   "id": "6b30b732-00da-45c4-9815-2a445a00185f",
   "metadata": {},
   "source": [
    "## Source\n",
    "\n",
    "The configuration source itself is a yaml document [included](../csdmpy/fixtures/config/standard-v1.yaml) in the distribution.\n",
    "\n",
    "The 'raw' configuration values can be explored"
   ]
  },
  {
   "cell_type": "code",
   "execution_count": 9,
   "id": "e6e5993f-f018-49ce-b844-2c9ffa4e87e5",
   "metadata": {},
   "outputs": [
    {
     "data": {
      "text/plain": [
       "{'name': 'Standard 903 Demand Modelling Configuration',\n",
       " 'version': 1.0,\n",
       " 'description': 'Standard 903 Demand Modelling Configuration Baseline.\\n\\nThis file is a YAML file that contains the configuration for the standard 903 demand modelling configuration.\\n',\n",
       " 'config': {'YearInDays': 365.24,\n",
       "  'PlacementCategories': {'FOSTERING': {'label': 'Foster',\n",
       "    'placement_types': ['U1', 'U2', 'U3', 'U4', 'U5', 'U6'],\n",
       "    'index': 0},\n",
       "   'RESIDENTIAL': {'label': 'Resi',\n",
       "    'placement_types': ['K2', 'R1'],\n",
       "    'index': 1},\n",
       "   'SUPPORTED': {'label': 'Supported',\n",
       "    'placement_types': ['H5', 'P2'],\n",
       "    'index': 2}},\n",
       "  'AgeBrackets': {'BIRTH_TO_ONE': {'name': 'Birth to 1',\n",
       "    'max': 1,\n",
       "    'length_in_days': 365,\n",
       "    'categories': ['FOSTERING'],\n",
       "    'index': 0,\n",
       "    'placement_categories': <enum 'PlacementCategories'>},\n",
       "   'ONE_TO_FIVE': {'min': 1,\n",
       "    'max': 5,\n",
       "    'categories': ['FOSTERING'],\n",
       "    'index': 1,\n",
       "    'placement_categories': <enum 'PlacementCategories'>},\n",
       "   'FIVE_TO_TEN': {'min': 5,\n",
       "    'max': 10,\n",
       "    'categories': ['FOSTERING', 'RESIDENTIAL'],\n",
       "    'index': 2,\n",
       "    'placement_categories': <enum 'PlacementCategories'>},\n",
       "   'TEN_TO_SIXTEEN': {'min': 10,\n",
       "    'max': 16,\n",
       "    'categories': ['FOSTERING', 'RESIDENTIAL'],\n",
       "    'index': 3,\n",
       "    'placement_categories': <enum 'PlacementCategories'>},\n",
       "   'SIXTEEN_TO_EIGHTEEN': {'min': 16,\n",
       "    'max': 18,\n",
       "    'categories': ['FOSTERING', 'RESIDENTIAL', 'SUPPORTED'],\n",
       "    'index': 4,\n",
       "    'placement_categories': <enum 'PlacementCategories'>}}}}"
      ]
     },
     "execution_count": 9,
     "metadata": {},
     "output_type": "execute_result"
    }
   ],
   "source": [
    "c.config.src"
   ]
  },
  {
   "cell_type": "code",
   "execution_count": null,
   "id": "8020a9fa-d1d8-42e8-9e4b-3043d5dea9e3",
   "metadata": {},
   "outputs": [],
   "source": []
  }
 ],
 "metadata": {
  "kernelspec": {
   "display_name": "Python 3 (ipykernel)",
   "language": "python",
   "name": "python3"
  },
  "language_info": {
   "codemirror_mode": {
    "name": "ipython",
    "version": 3
   },
   "file_extension": ".py",
   "mimetype": "text/x-python",
   "name": "python",
   "nbconvert_exporter": "python",
   "pygments_lexer": "ipython3",
   "version": "3.10.2"
  }
 },
 "nbformat": 4,
 "nbformat_minor": 5
}
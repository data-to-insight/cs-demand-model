{
 "cells": [
  {
   "cell_type": "markdown",
   "id": "08718d60-e700-4a2b-8b50-71c8f1ee06c0",
   "metadata": {},
   "source": [
    "# Predicting future demand\n",
    "\n",
    "The predict cycle takes as input the model generated in the [data analysis](./data-analysis.ipynb) stage. \n",
    "\n",
    "Using the transition rates and new entry rates as well as a starting population, the model iterates day-by-day to see how the population changes over time. \n",
    "\n",
    "We start off by calculating our population statistics:"
   ]
  },
  {
   "cell_type": "code",
   "execution_count": 1,
   "id": "fb77fab0-a2cf-4126-a459-2ddb0a44dc7e",
   "metadata": {},
   "outputs": [
    {
     "name": "stdout",
     "output_type": "stream",
     "text": [
      "The autoreload extension is already loaded. To reload it, use:\n",
      "  %reload_ext autoreload\n"
     ]
    },
    {
     "name": "stderr",
     "output_type": "stream",
     "text": [
      "Failed to read file DataFile(name='2017/placed_for_adoption.csv', metadata=Metadata(name='placed_for_adoption.csv', size=1, year=2017, table=None)): File is empty\n",
      "Failed to read file DataFile(name='2017/ad1.csv', metadata=Metadata(name='ad1.csv', size=1, year=2017, table=None)): File is empty\n",
      "Failed to read file DataFile(name='2019/placed_for_adoption.csv', metadata=Metadata(name='placed_for_adoption.csv', size=1, year=2019, table=None)): File is empty\n",
      "Failed to read file DataFile(name='2019/ad1.csv', metadata=Metadata(name='ad1.csv', size=1, year=2019, table=None)): File is empty\n",
      "Failed to read file DataFile(name='2021/placed_for_adoption.csv', metadata=Metadata(name='placed_for_adoption.csv', size=1, year=2021, table=None)): File is empty\n",
      "Failed to read file DataFile(name='2021/ad1.csv', metadata=Metadata(name='ad1.csv', size=1, year=2021, table=None)): File is empty\n",
      "Failed to read file DataFile(name='2020/placed_for_adoption.csv', metadata=Metadata(name='placed_for_adoption.csv', size=1, year=2020, table=None)): File is empty\n",
      "Failed to read file DataFile(name='2020/ad1.csv', metadata=Metadata(name='ad1.csv', size=1, year=2020, table=None)): File is empty\n",
      "Failed to read file DataFile(name='2018/placed_for_adoption.csv', metadata=Metadata(name='placed_for_adoption.csv', size=1, year=2018, table=None)): File is empty\n",
      "Failed to read file DataFile(name='2018/ad1.csv', metadata=Metadata(name='ad1.csv', size=1, year=2018, table=None)): File is empty\n"
     ]
    },
    {
     "name": "stdout",
     "output_type": "stream",
     "text": [
      "Created datastore with [DataFile(name='2017/header.csv', metadata=Metadata(name='header.csv', size=33527, year=None, table=<SSDA903TableType.HEADER: <cs_demand_model.data.ssda903.Header object at 0x1174d8460>>)), DataFile(name='2017/episodes.csv', metadata=Metadata(name='episodes.csv', size=103508, year=2018, table=<SSDA903TableType.EPISODES: <cs_demand_model.data.ssda903.Episodes object at 0x1174d84f0>>)), DataFile(name='2019/header.csv', metadata=Metadata(name='header.csv', size=14844, year=None, table=<SSDA903TableType.HEADER: <cs_demand_model.data.ssda903.Header object at 0x1174d8460>>)), DataFile(name='2019/episodes.csv', metadata=Metadata(name='episodes.csv', size=46259, year=2020, table=<SSDA903TableType.EPISODES: <cs_demand_model.data.ssda903.Episodes object at 0x1174d84f0>>)), DataFile(name='2021/header.csv', metadata=Metadata(name='header.csv', size=5928, year=None, table=<SSDA903TableType.HEADER: <cs_demand_model.data.ssda903.Header object at 0x1174d8460>>)), DataFile(name='2021/episodes.csv', metadata=Metadata(name='episodes.csv', size=18127, year=2022, table=<SSDA903TableType.EPISODES: <cs_demand_model.data.ssda903.Episodes object at 0x1174d84f0>>)), DataFile(name='2020/header.csv', metadata=Metadata(name='header.csv', size=9284, year=None, table=<SSDA903TableType.HEADER: <cs_demand_model.data.ssda903.Header object at 0x1174d8460>>)), DataFile(name='2020/episodes.csv', metadata=Metadata(name='episodes.csv', size=28729, year=2021, table=<SSDA903TableType.EPISODES: <cs_demand_model.data.ssda903.Episodes object at 0x1174d84f0>>)), DataFile(name='2018/header.csv', metadata=Metadata(name='header.csv', size=23426, year=None, table=<SSDA903TableType.HEADER: <cs_demand_model.data.ssda903.Header object at 0x1174d8460>>)), DataFile(name='2018/episodes.csv', metadata=Metadata(name='episodes.csv', size=69446, year=2019, table=<SSDA903TableType.EPISODES: <cs_demand_model.data.ssda903.Episodes object at 0x1174d84f0>>))]\n",
      "INFO DataFile(name='2017/header.csv', metadata=Metadata(name='header.csv', size=33527, year=None, table=<SSDA903TableType.HEADER: <cs_demand_model.data.ssda903.Header object at 0x1174d8460>>))\n",
      "INFO DataFile(name='2017/episodes.csv', metadata=Metadata(name='episodes.csv', size=103508, year=2018, table=<SSDA903TableType.EPISODES: <cs_demand_model.data.ssda903.Episodes object at 0x1174d84f0>>))\n",
      "INFO DataFile(name='2019/header.csv', metadata=Metadata(name='header.csv', size=14844, year=None, table=<SSDA903TableType.HEADER: <cs_demand_model.data.ssda903.Header object at 0x1174d8460>>))\n",
      "INFO DataFile(name='2019/episodes.csv', metadata=Metadata(name='episodes.csv', size=46259, year=2020, table=<SSDA903TableType.EPISODES: <cs_demand_model.data.ssda903.Episodes object at 0x1174d84f0>>))\n",
      "INFO DataFile(name='2021/header.csv', metadata=Metadata(name='header.csv', size=5928, year=None, table=<SSDA903TableType.HEADER: <cs_demand_model.data.ssda903.Header object at 0x1174d8460>>))\n",
      "INFO DataFile(name='2021/episodes.csv', metadata=Metadata(name='episodes.csv', size=18127, year=2022, table=<SSDA903TableType.EPISODES: <cs_demand_model.data.ssda903.Episodes object at 0x1174d84f0>>))\n",
      "INFO DataFile(name='2020/header.csv', metadata=Metadata(name='header.csv', size=9284, year=None, table=<SSDA903TableType.HEADER: <cs_demand_model.data.ssda903.Header object at 0x1174d8460>>))\n",
      "INFO DataFile(name='2020/episodes.csv', metadata=Metadata(name='episodes.csv', size=28729, year=2021, table=<SSDA903TableType.EPISODES: <cs_demand_model.data.ssda903.Episodes object at 0x1174d84f0>>))\n",
      "INFO DataFile(name='2018/header.csv', metadata=Metadata(name='header.csv', size=23426, year=None, table=<SSDA903TableType.HEADER: <cs_demand_model.data.ssda903.Header object at 0x1174d8460>>))\n",
      "INFO DataFile(name='2018/episodes.csv', metadata=Metadata(name='episodes.csv', size=69446, year=2019, table=<SSDA903TableType.EPISODES: <cs_demand_model.data.ssda903.Episodes object at 0x1174d84f0>>))\n",
      "INFO DataFile(name='2017/header.csv', metadata=Metadata(name='header.csv', size=33527, year=None, table=<SSDA903TableType.HEADER: <cs_demand_model.data.ssda903.Header object at 0x1174d8460>>))\n",
      "INFO DataFile(name='2017/episodes.csv', metadata=Metadata(name='episodes.csv', size=103508, year=2018, table=<SSDA903TableType.EPISODES: <cs_demand_model.data.ssda903.Episodes object at 0x1174d84f0>>))\n",
      "INFO DataFile(name='2019/header.csv', metadata=Metadata(name='header.csv', size=14844, year=None, table=<SSDA903TableType.HEADER: <cs_demand_model.data.ssda903.Header object at 0x1174d8460>>))\n",
      "INFO DataFile(name='2019/episodes.csv', metadata=Metadata(name='episodes.csv', size=46259, year=2020, table=<SSDA903TableType.EPISODES: <cs_demand_model.data.ssda903.Episodes object at 0x1174d84f0>>))\n",
      "INFO DataFile(name='2021/header.csv', metadata=Metadata(name='header.csv', size=5928, year=None, table=<SSDA903TableType.HEADER: <cs_demand_model.data.ssda903.Header object at 0x1174d8460>>))\n",
      "INFO DataFile(name='2021/episodes.csv', metadata=Metadata(name='episodes.csv', size=18127, year=2022, table=<SSDA903TableType.EPISODES: <cs_demand_model.data.ssda903.Episodes object at 0x1174d84f0>>))\n",
      "INFO DataFile(name='2020/header.csv', metadata=Metadata(name='header.csv', size=9284, year=None, table=<SSDA903TableType.HEADER: <cs_demand_model.data.ssda903.Header object at 0x1174d8460>>))\n",
      "INFO DataFile(name='2020/episodes.csv', metadata=Metadata(name='episodes.csv', size=28729, year=2021, table=<SSDA903TableType.EPISODES: <cs_demand_model.data.ssda903.Episodes object at 0x1174d84f0>>))\n",
      "INFO DataFile(name='2018/header.csv', metadata=Metadata(name='header.csv', size=23426, year=None, table=<SSDA903TableType.HEADER: <cs_demand_model.data.ssda903.Header object at 0x1174d8460>>))\n",
      "INFO DataFile(name='2018/episodes.csv', metadata=Metadata(name='episodes.csv', size=69446, year=2019, table=<SSDA903TableType.EPISODES: <cs_demand_model.data.ssda903.Episodes object at 0x1174d84f0>>))\n",
      "INFO DataFile(name='2017/header.csv', metadata=Metadata(name='header.csv', size=33527, year=None, table=<SSDA903TableType.HEADER: <cs_demand_model.data.ssda903.Header object at 0x1174d8460>>))\n",
      "INFO DataFile(name='2017/episodes.csv', metadata=Metadata(name='episodes.csv', size=103508, year=2018, table=<SSDA903TableType.EPISODES: <cs_demand_model.data.ssda903.Episodes object at 0x1174d84f0>>))\n",
      "INFO DataFile(name='2019/header.csv', metadata=Metadata(name='header.csv', size=14844, year=None, table=<SSDA903TableType.HEADER: <cs_demand_model.data.ssda903.Header object at 0x1174d8460>>))\n",
      "INFO DataFile(name='2019/episodes.csv', metadata=Metadata(name='episodes.csv', size=46259, year=2020, table=<SSDA903TableType.EPISODES: <cs_demand_model.data.ssda903.Episodes object at 0x1174d84f0>>))\n",
      "INFO DataFile(name='2021/header.csv', metadata=Metadata(name='header.csv', size=5928, year=None, table=<SSDA903TableType.HEADER: <cs_demand_model.data.ssda903.Header object at 0x1174d8460>>))\n",
      "INFO DataFile(name='2021/episodes.csv', metadata=Metadata(name='episodes.csv', size=18127, year=2022, table=<SSDA903TableType.EPISODES: <cs_demand_model.data.ssda903.Episodes object at 0x1174d84f0>>))\n",
      "INFO DataFile(name='2020/header.csv', metadata=Metadata(name='header.csv', size=9284, year=None, table=<SSDA903TableType.HEADER: <cs_demand_model.data.ssda903.Header object at 0x1174d8460>>))\n",
      "INFO DataFile(name='2020/episodes.csv', metadata=Metadata(name='episodes.csv', size=28729, year=2021, table=<SSDA903TableType.EPISODES: <cs_demand_model.data.ssda903.Episodes object at 0x1174d84f0>>))\n",
      "INFO DataFile(name='2018/header.csv', metadata=Metadata(name='header.csv', size=23426, year=None, table=<SSDA903TableType.HEADER: <cs_demand_model.data.ssda903.Header object at 0x1174d8460>>))\n",
      "INFO DataFile(name='2018/episodes.csv', metadata=Metadata(name='episodes.csv', size=69446, year=2019, table=<SSDA903TableType.EPISODES: <cs_demand_model.data.ssda903.Episodes object at 0x1174d84f0>>))\n",
      "INFO DataFile(name='2017/header.csv', metadata=Metadata(name='header.csv', size=33527, year=None, table=<SSDA903TableType.HEADER: <cs_demand_model.data.ssda903.Header object at 0x1174d8460>>))\n",
      "INFO DataFile(name='2017/episodes.csv', metadata=Metadata(name='episodes.csv', size=103508, year=2018, table=<SSDA903TableType.EPISODES: <cs_demand_model.data.ssda903.Episodes object at 0x1174d84f0>>))\n",
      "INFO DataFile(name='2019/header.csv', metadata=Metadata(name='header.csv', size=14844, year=None, table=<SSDA903TableType.HEADER: <cs_demand_model.data.ssda903.Header object at 0x1174d8460>>))\n",
      "INFO DataFile(name='2019/episodes.csv', metadata=Metadata(name='episodes.csv', size=46259, year=2020, table=<SSDA903TableType.EPISODES: <cs_demand_model.data.ssda903.Episodes object at 0x1174d84f0>>))\n",
      "INFO DataFile(name='2021/header.csv', metadata=Metadata(name='header.csv', size=5928, year=None, table=<SSDA903TableType.HEADER: <cs_demand_model.data.ssda903.Header object at 0x1174d8460>>))\n",
      "INFO DataFile(name='2021/episodes.csv', metadata=Metadata(name='episodes.csv', size=18127, year=2022, table=<SSDA903TableType.EPISODES: <cs_demand_model.data.ssda903.Episodes object at 0x1174d84f0>>))\n",
      "INFO DataFile(name='2020/header.csv', metadata=Metadata(name='header.csv', size=9284, year=None, table=<SSDA903TableType.HEADER: <cs_demand_model.data.ssda903.Header object at 0x1174d8460>>))\n",
      "INFO DataFile(name='2020/episodes.csv', metadata=Metadata(name='episodes.csv', size=28729, year=2021, table=<SSDA903TableType.EPISODES: <cs_demand_model.data.ssda903.Episodes object at 0x1174d84f0>>))\n",
      "INFO DataFile(name='2018/header.csv', metadata=Metadata(name='header.csv', size=23426, year=None, table=<SSDA903TableType.HEADER: <cs_demand_model.data.ssda903.Header object at 0x1174d8460>>))\n",
      "INFO DataFile(name='2018/episodes.csv', metadata=Metadata(name='episodes.csv', size=69446, year=2019, table=<SSDA903TableType.EPISODES: <cs_demand_model.data.ssda903.Episodes object at 0x1174d84f0>>))\n",
      "INFO DataFile(name='2017/header.csv', metadata=Metadata(name='header.csv', size=33527, year=None, table=<SSDA903TableType.HEADER: <cs_demand_model.data.ssda903.Header object at 0x1174d8460>>))\n",
      "INFO DataFile(name='2017/episodes.csv', metadata=Metadata(name='episodes.csv', size=103508, year=2018, table=<SSDA903TableType.EPISODES: <cs_demand_model.data.ssda903.Episodes object at 0x1174d84f0>>))\n",
      "INFO DataFile(name='2019/header.csv', metadata=Metadata(name='header.csv', size=14844, year=None, table=<SSDA903TableType.HEADER: <cs_demand_model.data.ssda903.Header object at 0x1174d8460>>))\n",
      "INFO DataFile(name='2019/episodes.csv', metadata=Metadata(name='episodes.csv', size=46259, year=2020, table=<SSDA903TableType.EPISODES: <cs_demand_model.data.ssda903.Episodes object at 0x1174d84f0>>))\n",
      "INFO DataFile(name='2021/header.csv', metadata=Metadata(name='header.csv', size=5928, year=None, table=<SSDA903TableType.HEADER: <cs_demand_model.data.ssda903.Header object at 0x1174d8460>>))\n",
      "INFO DataFile(name='2021/episodes.csv', metadata=Metadata(name='episodes.csv', size=18127, year=2022, table=<SSDA903TableType.EPISODES: <cs_demand_model.data.ssda903.Episodes object at 0x1174d84f0>>))\n",
      "INFO DataFile(name='2020/header.csv', metadata=Metadata(name='header.csv', size=9284, year=None, table=<SSDA903TableType.HEADER: <cs_demand_model.data.ssda903.Header object at 0x1174d8460>>))\n",
      "INFO DataFile(name='2020/episodes.csv', metadata=Metadata(name='episodes.csv', size=28729, year=2021, table=<SSDA903TableType.EPISODES: <cs_demand_model.data.ssda903.Episodes object at 0x1174d84f0>>))\n",
      "INFO DataFile(name='2018/header.csv', metadata=Metadata(name='header.csv', size=23426, year=None, table=<SSDA903TableType.HEADER: <cs_demand_model.data.ssda903.Header object at 0x1174d8460>>))\n",
      "INFO DataFile(name='2018/episodes.csv', metadata=Metadata(name='episodes.csv', size=69446, year=2019, table=<SSDA903TableType.EPISODES: <cs_demand_model.data.ssda903.Episodes object at 0x1174d84f0>>))\n"
     ]
    }
   ],
   "source": [
    "%load_ext autoreload\n",
    "%autoreload 2\n",
    "import pandas as pd\n",
    "import numpy as np\n",
    "import matplotlib.pyplot as pp\n",
    "from cs_demand_model import Config, DemandModellingDataContainer, ModelPredictor, PopulationStats, fs_datastore\n",
    "\n",
    "config = Config()\n",
    "datastore = fs_datastore(\"sample://v1.zip\")\n",
    "dc = DemandModellingDataContainer(datastore, config)\n",
    "stats = PopulationStats(dc.enriched_view, config)\n"
   ]
  },
  {
   "cell_type": "markdown",
   "id": "70864b94-b90a-4efb-8491-9a22c90f091f",
   "metadata": {},
   "source": [
    "From this we can now run a model prediction to see how the population evolves. \n",
    "As we covered in the data analysis documentation, we need to provide a start and end date for the analysis window."
   ]
  },
  {
   "cell_type": "code",
   "execution_count": 2,
   "id": "35ed3310-5094-4078-94bd-c92f483258d3",
   "metadata": {},
   "outputs": [],
   "source": [
    "start_date, end_date = pd.to_datetime('2019-07-01'), pd.to_datetime('2020-01-01')\n",
    "predictor = ModelPredictor.from_model(stats, start_date, end_date)"
   ]
  },
  {
   "cell_type": "markdown",
   "id": "64cb3a49-9e49-4d3a-aea2-a589f117f2c8",
   "metadata": {},
   "source": [
    "The predictor is an iterative model that has a state and can return the predictor for the next period. \n",
    "\n",
    "To see the current population, in this case the starting population from the model, view the `initial_population`:"
   ]
  },
  {
   "cell_type": "code",
   "execution_count": 3,
   "id": "0539bfc6-bc4d-4c2f-9937-330eeaeaa158",
   "metadata": {},
   "outputs": [
    {
     "data": {
      "text/plain": [
       "age_bin     placement_type\n",
       "Birth to 1  Fostering           0.0\n",
       "            Other               0.0\n",
       "1 to 5      Fostering           0.0\n",
       "            Other               0.0\n",
       "5 to 10     Fostering          23.0\n",
       "            Residential         3.0\n",
       "            Other               0.0\n",
       "10 to 16    Fostering         130.0\n",
       "            Residential        31.0\n",
       "            Other              23.0\n",
       "16 to 18+   Fostering           9.0\n",
       "            Residential         1.0\n",
       "            Supported          14.0\n",
       "            Other               7.0\n",
       "Name: 2020-01-01 00:00:00, dtype: float64"
      ]
     },
     "execution_count": 3,
     "metadata": {},
     "output_type": "execute_result"
    }
   ],
   "source": [
    "predictor.initial_population"
   ]
  },
  {
   "cell_type": "markdown",
   "id": "061492d7-0e61-4b9c-a84a-18dca4aff668",
   "metadata": {},
   "source": [
    "We can now ask for the next population:"
   ]
  },
  {
   "cell_type": "code",
   "execution_count": 4,
   "id": "6d1aeffc-e53f-4ac4-b533-baf131fffe48",
   "metadata": {},
   "outputs": [
    {
     "data": {
      "text/plain": [
       "age_bin     placement_type\n",
       "Birth to 1  Fostering           0.000000\n",
       "            Other               0.000000\n",
       "            Residential         0.000000\n",
       "            Supported           0.000000\n",
       "1 to 5      Fostering           0.000000\n",
       "            Other               0.000000\n",
       "            Residential         0.000000\n",
       "            Supported           0.000000\n",
       "5 to 10     Fostering          22.968340\n",
       "            Other               0.004142\n",
       "            Residential         3.000521\n",
       "            Supported           0.000000\n",
       "10 to 16    Fostering         129.721683\n",
       "            Other              22.999167\n",
       "            Residential        30.986874\n",
       "            Supported           0.000000\n",
       "16 to 18+   Fostering           9.044089\n",
       "            Other               6.995609\n",
       "            Residential         1.008479\n",
       "            Supported          13.954944\n",
       "Name: 2020-01-02 00:00:00, dtype: float64"
      ]
     },
     "execution_count": 4,
     "metadata": {},
     "output_type": "execute_result"
    }
   ],
   "source": [
    "predictor = predictor.next()\n",
    "predictor.initial_population"
   ]
  },
  {
   "cell_type": "markdown",
   "id": "a1243b99-fbc1-411c-b8c8-70a1d7a34ae8",
   "metadata": {},
   "source": [
    "You can run the above block multiple times to see the population change. To reset, go back and create a new predictor from the initial state. \n",
    "\n",
    "Since we usually want to run multiple iterations in one simple operations, there is also a utility method on the predictor to run *n* generations and return a dataframe of all the populations. You can add progress=True to get a progress bar so you have something to enjoy watching while you make a cup of tea..."
   ]
  },
  {
   "cell_type": "code",
   "execution_count": 5,
   "id": "89f9b22d-2429-4683-b29e-380fd5b68ada",
   "metadata": {},
   "outputs": [
    {
     "name": "stderr",
     "output_type": "stream",
     "text": [
      "2021-12: 100%|████████████████████████████████████████████████████████████████████████████████████████████████████████████████████████████████████████████| 720/720 [00:12<00:00, 55.73it/s]\n"
     ]
    },
    {
     "data": {
      "text/html": [
       "<div>\n",
       "<style scoped>\n",
       "    .dataframe tbody tr th:only-of-type {\n",
       "        vertical-align: middle;\n",
       "    }\n",
       "\n",
       "    .dataframe tbody tr th {\n",
       "        vertical-align: top;\n",
       "    }\n",
       "\n",
       "    .dataframe thead th {\n",
       "        text-align: right;\n",
       "    }\n",
       "</style>\n",
       "<table border=\"1\" class=\"dataframe\">\n",
       "  <thead>\n",
       "    <tr style=\"text-align: right;\">\n",
       "      <th>placement_type</th>\n",
       "      <th>Fostering</th>\n",
       "      <th>Other</th>\n",
       "      <th>Residential</th>\n",
       "      <th>Supported</th>\n",
       "    </tr>\n",
       "  </thead>\n",
       "  <tbody>\n",
       "    <tr>\n",
       "      <th>2020-01-02</th>\n",
       "      <td>161.734113</td>\n",
       "      <td>29.998918</td>\n",
       "      <td>34.995874</td>\n",
       "      <td>13.954944</td>\n",
       "    </tr>\n",
       "    <tr>\n",
       "      <th>2020-01-03</th>\n",
       "      <td>161.468742</td>\n",
       "      <td>29.997718</td>\n",
       "      <td>34.991610</td>\n",
       "      <td>13.910097</td>\n",
       "    </tr>\n",
       "    <tr>\n",
       "      <th>2020-01-04</th>\n",
       "      <td>161.203887</td>\n",
       "      <td>29.996401</td>\n",
       "      <td>34.987209</td>\n",
       "      <td>13.865458</td>\n",
       "    </tr>\n",
       "    <tr>\n",
       "      <th>2020-01-05</th>\n",
       "      <td>160.939546</td>\n",
       "      <td>29.994966</td>\n",
       "      <td>34.982672</td>\n",
       "      <td>13.821024</td>\n",
       "    </tr>\n",
       "    <tr>\n",
       "      <th>2020-01-06</th>\n",
       "      <td>160.675719</td>\n",
       "      <td>29.993416</td>\n",
       "      <td>34.977998</td>\n",
       "      <td>13.776796</td>\n",
       "    </tr>\n",
       "    <tr>\n",
       "      <th>...</th>\n",
       "      <td>...</td>\n",
       "      <td>...</td>\n",
       "      <td>...</td>\n",
       "      <td>...</td>\n",
       "    </tr>\n",
       "    <tr>\n",
       "      <th>2021-12-17</th>\n",
       "      <td>57.501461</td>\n",
       "      <td>18.402603</td>\n",
       "      <td>20.011844</td>\n",
       "      <td>3.536533</td>\n",
       "    </tr>\n",
       "    <tr>\n",
       "      <th>2021-12-18</th>\n",
       "      <td>57.430628</td>\n",
       "      <td>18.385200</td>\n",
       "      <td>19.990390</td>\n",
       "      <td>3.532340</td>\n",
       "    </tr>\n",
       "    <tr>\n",
       "      <th>2021-12-19</th>\n",
       "      <td>57.359919</td>\n",
       "      <td>18.367810</td>\n",
       "      <td>19.968953</td>\n",
       "      <td>3.528155</td>\n",
       "    </tr>\n",
       "    <tr>\n",
       "      <th>2021-12-20</th>\n",
       "      <td>57.289334</td>\n",
       "      <td>18.350434</td>\n",
       "      <td>19.947534</td>\n",
       "      <td>3.523977</td>\n",
       "    </tr>\n",
       "    <tr>\n",
       "      <th>2021-12-21</th>\n",
       "      <td>57.218872</td>\n",
       "      <td>18.333072</td>\n",
       "      <td>19.926132</td>\n",
       "      <td>3.519806</td>\n",
       "    </tr>\n",
       "  </tbody>\n",
       "</table>\n",
       "<p>720 rows × 4 columns</p>\n",
       "</div>"
      ],
      "text/plain": [
       "placement_type   Fostering      Other  Residential  Supported\n",
       "2020-01-02      161.734113  29.998918    34.995874  13.954944\n",
       "2020-01-03      161.468742  29.997718    34.991610  13.910097\n",
       "2020-01-04      161.203887  29.996401    34.987209  13.865458\n",
       "2020-01-05      160.939546  29.994966    34.982672  13.821024\n",
       "2020-01-06      160.675719  29.993416    34.977998  13.776796\n",
       "...                    ...        ...          ...        ...\n",
       "2021-12-17       57.501461  18.402603    20.011844   3.536533\n",
       "2021-12-18       57.430628  18.385200    19.990390   3.532340\n",
       "2021-12-19       57.359919  18.367810    19.968953   3.528155\n",
       "2021-12-20       57.289334  18.350434    19.947534   3.523977\n",
       "2021-12-21       57.218872  18.333072    19.926132   3.519806\n",
       "\n",
       "[720 rows x 4 columns]"
      ]
     },
     "execution_count": 5,
     "metadata": {},
     "output_type": "execute_result"
    }
   ],
   "source": [
    "predictor = ModelPredictor.from_model(stats, start_date, end_date)\n",
    "predicted_pop = predictor.predict(720, progress=True)  # Predict 720 days forward\n",
    "predicted_pop.groupby(level=1, axis=1).sum()"
   ]
  },
  {
   "cell_type": "code",
   "execution_count": 6,
   "id": "27bba04d-611d-4723-8f64-5851bb356548",
   "metadata": {},
   "outputs": [
    {
     "data": {
      "image/png": "[encoded data removed]",
      "text/plain": [
       "<Figure size 640x480 with 1 Axes>"
      ]
     },
     "metadata": {},
     "output_type": "display_data"
    }
   ],
   "source": [
    "historic_pop = stats.stock.loc[:end_date]\n",
    "combined_pop = pd.concat([historic_pop, predicted_pop], axis=0)\n",
    "\n",
    "# Remove this to see individual sequences\n",
    "combined_pop = combined_pop.groupby(level=1, axis=1).sum()\n",
    "\n",
    "combined_pop.plot(legend=False)\n",
    "pp.axvline(end_date, alpha=0.4)\n",
    "pp.axvspan(start_date, end_date, alpha=0.1)\n",
    "pp.show()"
   ]
  },
  {
   "cell_type": "code",
   "execution_count": 12,
   "id": "aeb697e3-a8f6-4b16-91f1-413612671b57",
   "metadata": {},
   "outputs": [
    {
     "name": "stderr",
     "output_type": "stream",
     "text": [
      "2021-12: 100%|████████████████████████████████████████████████████████████████████████████████████████████████████████████████████████████████████████████| 720/720 [00:13<00:00, 51.49it/s]\n"
     ]
    },
    {
     "data": {
      "text/html": [
       "<div>\n",
       "<style scoped>\n",
       "    .dataframe tbody tr th:only-of-type {\n",
       "        vertical-align: middle;\n",
       "    }\n",
       "\n",
       "    .dataframe tbody tr th {\n",
       "        vertical-align: top;\n",
       "    }\n",
       "\n",
       "    .dataframe thead th {\n",
       "        text-align: right;\n",
       "    }\n",
       "</style>\n",
       "<table border=\"1\" class=\"dataframe\">\n",
       "  <thead>\n",
       "    <tr style=\"text-align: right;\">\n",
       "      <th>placement_type</th>\n",
       "      <th>Fostering</th>\n",
       "      <th>Other</th>\n",
       "      <th>Residential</th>\n",
       "      <th>Supported</th>\n",
       "    </tr>\n",
       "  </thead>\n",
       "  <tbody>\n",
       "    <tr>\n",
       "      <th>2020-01-02</th>\n",
       "      <td>161.734113</td>\n",
       "      <td>29.998918</td>\n",
       "      <td>34.995874</td>\n",
       "      <td>13.954944</td>\n",
       "    </tr>\n",
       "    <tr>\n",
       "      <th>2020-01-03</th>\n",
       "      <td>161.468742</td>\n",
       "      <td>29.997718</td>\n",
       "      <td>34.991610</td>\n",
       "      <td>13.910097</td>\n",
       "    </tr>\n",
       "    <tr>\n",
       "      <th>2020-01-04</th>\n",
       "      <td>161.203887</td>\n",
       "      <td>29.996401</td>\n",
       "      <td>34.987209</td>\n",
       "      <td>13.865458</td>\n",
       "    </tr>\n",
       "    <tr>\n",
       "      <th>2020-01-05</th>\n",
       "      <td>160.939546</td>\n",
       "      <td>29.994966</td>\n",
       "      <td>34.982672</td>\n",
       "      <td>13.821024</td>\n",
       "    </tr>\n",
       "    <tr>\n",
       "      <th>2020-01-06</th>\n",
       "      <td>160.675719</td>\n",
       "      <td>29.993416</td>\n",
       "      <td>34.977998</td>\n",
       "      <td>13.776796</td>\n",
       "    </tr>\n",
       "    <tr>\n",
       "      <th>...</th>\n",
       "      <td>...</td>\n",
       "      <td>...</td>\n",
       "      <td>...</td>\n",
       "      <td>...</td>\n",
       "    </tr>\n",
       "    <tr>\n",
       "      <th>2021-12-17</th>\n",
       "      <td>57.501461</td>\n",
       "      <td>18.402603</td>\n",
       "      <td>20.011844</td>\n",
       "      <td>3.536533</td>\n",
       "    </tr>\n",
       "    <tr>\n",
       "      <th>2021-12-18</th>\n",
       "      <td>57.430628</td>\n",
       "      <td>18.385200</td>\n",
       "      <td>19.990390</td>\n",
       "      <td>3.532340</td>\n",
       "    </tr>\n",
       "    <tr>\n",
       "      <th>2021-12-19</th>\n",
       "      <td>57.359919</td>\n",
       "      <td>18.367810</td>\n",
       "      <td>19.968953</td>\n",
       "      <td>3.528155</td>\n",
       "    </tr>\n",
       "    <tr>\n",
       "      <th>2021-12-20</th>\n",
       "      <td>57.289334</td>\n",
       "      <td>18.350434</td>\n",
       "      <td>19.947534</td>\n",
       "      <td>3.523977</td>\n",
       "    </tr>\n",
       "    <tr>\n",
       "      <th>2021-12-21</th>\n",
       "      <td>57.218872</td>\n",
       "      <td>18.333072</td>\n",
       "      <td>19.926132</td>\n",
       "      <td>3.519806</td>\n",
       "    </tr>\n",
       "  </tbody>\n",
       "</table>\n",
       "<p>720 rows × 4 columns</p>\n",
       "</div>"
      ],
      "text/plain": [
       "placement_type   Fostering      Other  Residential  Supported\n",
       "2020-01-02      161.734113  29.998918    34.995874  13.954944\n",
       "2020-01-03      161.468742  29.997718    34.991610  13.910097\n",
       "2020-01-04      161.203887  29.996401    34.987209  13.865458\n",
       "2020-01-05      160.939546  29.994966    34.982672  13.821024\n",
       "2020-01-06      160.675719  29.993416    34.977998  13.776796\n",
       "...                    ...        ...          ...        ...\n",
       "2021-12-17       57.501461  18.402603    20.011844   3.536533\n",
       "2021-12-18       57.430628  18.385200    19.990390   3.532340\n",
       "2021-12-19       57.359919  18.367810    19.968953   3.528155\n",
       "2021-12-20       57.289334  18.350434    19.947534   3.523977\n",
       "2021-12-21       57.218872  18.333072    19.926132   3.519806\n",
       "\n",
       "[720 rows x 4 columns]"
      ]
     },
     "execution_count": 12,
     "metadata": {},
     "output_type": "execute_result"
    }
   ],
   "source": [
    "predictor = ModelPredictor.from_model(stats, start_date, end_date)\n",
    "\n",
    "step_days = 1\n",
    "\n",
    "predicted_pop = predictor.predict(720 // step_days, step_days=step_days, progress=True)  # Predict 720 days forward\n",
    "predicted_pop.groupby(level=1, axis=1).sum()"
   ]
  },
  {
   "cell_type": "code",
   "execution_count": 11,
   "id": "8129de11-17a1-40e4-839b-9b7d5e3d122d",
   "metadata": {},
   "outputs": [
    {
     "data": {
      "image/png": "[encoded data removed]",
      "text/plain": [
       "<Figure size 640x480 with 1 Axes>"
      ]
     },
     "metadata": {},
     "output_type": "display_data"
    }
   ],
   "source": [
    "historic_pop = stats.stock.loc[:end_date]\n",
    "combined_pop = pd.concat([historic_pop, predicted_pop], axis=0)\n",
    "\n",
    "# Remove this to see individual sequences\n",
    "combined_pop = combined_pop.groupby(level=1, axis=1).sum()\n",
    "\n",
    "combined_pop.plot(legend=False)\n",
    "pp.axvline(end_date, alpha=0.4)\n",
    "pp.axvspan(start_date, end_date, alpha=0.1)\n",
    "pp.show()"
   ]
  },
  {
   "cell_type": "code",
   "execution_count": null,
   "id": "c26400ef-b0aa-4a95-a1a1-65604c4bf041",
   "metadata": {},
   "outputs": [],
   "source": []
  },
  {
   "cell_type": "code",
   "execution_count": null,
   "id": "6dc0e126-7d20-4901-a730-105d3862ee6f",
   "metadata": {},
   "outputs": [],
   "source": []
  }
 ],
 "metadata": {
  "kernelspec": {
   "display_name": "Python 3 (ipykernel)",
   "language": "python",
   "name": "python3"
  },
  "language_info": {
   "codemirror_mode": {
    "name": "ipython",
    "version": 3
   },
   "file_extension": ".py",
   "mimetype": "text/x-python",
   "name": "python",
   "nbconvert_exporter": "python",
   "pygments_lexer": "ipython3",
   "version": "3.10.6"
  }
 },
 "nbformat": 4,
 "nbformat_minor": 5
}

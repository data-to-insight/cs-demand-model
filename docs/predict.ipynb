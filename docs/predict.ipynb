{
 "cells": [
  {
   "cell_type": "markdown",
   "id": "08718d60-e700-4a2b-8b50-71c8f1ee06c0",
   "metadata": {},
   "source": [
    "# Predicting future demand\n",
    "\n",
    "The predict cycle takes as input the model generated in the [data analysis](./data-analysis.ipynb) stage. \n",
    "\n",
    "Using the transition rates and new entry rates as well as a starting population, the model iterates day-by-day to see how the population changes over time. \n",
    "\n",
    "We start off by calculating our population statistics:"
   ]
  },
  {
   "cell_type": "code",
   "execution_count": 1,
   "id": "fb77fab0-a2cf-4126-a459-2ddb0a44dc7e",
   "metadata": {},
   "outputs": [
    {
     "name": "stdout",
     "output_type": "stream",
     "text": [
      "The autoreload extension is already loaded. To reload it, use:\n",
      "  %reload_ext autoreload\n"
     ]
    },
    {
     "name": "stderr",
     "output_type": "stream",
     "text": [
      "Failed to read file DataFile(name='2017/placed_for_adoption.csv', metadata=Metadata(name='placed_for_adoption.csv', size=1, year=2017, table=None)): File is empty\n",
      "Failed to read file DataFile(name='2017/ad1.csv', metadata=Metadata(name='ad1.csv', size=1, year=2017, table=None)): File is empty\n",
      "Failed to read file DataFile(name='2019/placed_for_adoption.csv', metadata=Metadata(name='placed_for_adoption.csv', size=1, year=2019, table=None)): File is empty\n",
      "Failed to read file DataFile(name='2019/ad1.csv', metadata=Metadata(name='ad1.csv', size=1, year=2019, table=None)): File is empty\n",
      "Failed to read file DataFile(name='2021/placed_for_adoption.csv', metadata=Metadata(name='placed_for_adoption.csv', size=1, year=2021, table=None)): File is empty\n",
      "Failed to read file DataFile(name='2021/ad1.csv', metadata=Metadata(name='ad1.csv', size=1, year=2021, table=None)): File is empty\n",
      "Failed to read file DataFile(name='2020/placed_for_adoption.csv', metadata=Metadata(name='placed_for_adoption.csv', size=1, year=2020, table=None)): File is empty\n",
      "Failed to read file DataFile(name='2020/ad1.csv', metadata=Metadata(name='ad1.csv', size=1, year=2020, table=None)): File is empty\n",
      "Failed to read file DataFile(name='2018/placed_for_adoption.csv', metadata=Metadata(name='placed_for_adoption.csv', size=1, year=2018, table=None)): File is empty\n",
      "Failed to read file DataFile(name='2018/ad1.csv', metadata=Metadata(name='ad1.csv', size=1, year=2018, table=None)): File is empty\n"
     ]
    },
    {
     "name": "stdout",
     "output_type": "stream",
     "text": [
      "Created datastore with [DataFile(name='2017/header.csv', metadata=Metadata(name='header.csv', size=33527, year=None, table=<SSDA903TableType.HEADER: <cs_demand_model.data.ssda903.Header object at 0x119c5b640>>)), DataFile(name='2017/episodes.csv', metadata=Metadata(name='episodes.csv', size=103508, year=2018, table=<SSDA903TableType.EPISODES: <cs_demand_model.data.ssda903.Episodes object at 0x119c5b610>>)), DataFile(name='2019/header.csv', metadata=Metadata(name='header.csv', size=14844, year=None, table=<SSDA903TableType.HEADER: <cs_demand_model.data.ssda903.Header object at 0x119c5b640>>)), DataFile(name='2019/episodes.csv', metadata=Metadata(name='episodes.csv', size=46259, year=2020, table=<SSDA903TableType.EPISODES: <cs_demand_model.data.ssda903.Episodes object at 0x119c5b610>>)), DataFile(name='2021/header.csv', metadata=Metadata(name='header.csv', size=5928, year=None, table=<SSDA903TableType.HEADER: <cs_demand_model.data.ssda903.Header object at 0x119c5b640>>)), DataFile(name='2021/episodes.csv', metadata=Metadata(name='episodes.csv', size=18127, year=2022, table=<SSDA903TableType.EPISODES: <cs_demand_model.data.ssda903.Episodes object at 0x119c5b610>>)), DataFile(name='2020/header.csv', metadata=Metadata(name='header.csv', size=9284, year=None, table=<SSDA903TableType.HEADER: <cs_demand_model.data.ssda903.Header object at 0x119c5b640>>)), DataFile(name='2020/episodes.csv', metadata=Metadata(name='episodes.csv', size=28729, year=2021, table=<SSDA903TableType.EPISODES: <cs_demand_model.data.ssda903.Episodes object at 0x119c5b610>>)), DataFile(name='2018/header.csv', metadata=Metadata(name='header.csv', size=23426, year=None, table=<SSDA903TableType.HEADER: <cs_demand_model.data.ssda903.Header object at 0x119c5b640>>)), DataFile(name='2018/episodes.csv', metadata=Metadata(name='episodes.csv', size=69446, year=2019, table=<SSDA903TableType.EPISODES: <cs_demand_model.data.ssda903.Episodes object at 0x119c5b610>>))]\n",
      "INFO DataFile(name='2017/header.csv', metadata=Metadata(name='header.csv', size=33527, year=None, table=<SSDA903TableType.HEADER: <cs_demand_model.data.ssda903.Header object at 0x119c5b640>>))\n",
      "INFO DataFile(name='2017/episodes.csv', metadata=Metadata(name='episodes.csv', size=103508, year=2018, table=<SSDA903TableType.EPISODES: <cs_demand_model.data.ssda903.Episodes object at 0x119c5b610>>))\n",
      "INFO DataFile(name='2019/header.csv', metadata=Metadata(name='header.csv', size=14844, year=None, table=<SSDA903TableType.HEADER: <cs_demand_model.data.ssda903.Header object at 0x119c5b640>>))\n",
      "INFO DataFile(name='2019/episodes.csv', metadata=Metadata(name='episodes.csv', size=46259, year=2020, table=<SSDA903TableType.EPISODES: <cs_demand_model.data.ssda903.Episodes object at 0x119c5b610>>))\n",
      "INFO DataFile(name='2021/header.csv', metadata=Metadata(name='header.csv', size=5928, year=None, table=<SSDA903TableType.HEADER: <cs_demand_model.data.ssda903.Header object at 0x119c5b640>>))\n",
      "INFO DataFile(name='2021/episodes.csv', metadata=Metadata(name='episodes.csv', size=18127, year=2022, table=<SSDA903TableType.EPISODES: <cs_demand_model.data.ssda903.Episodes object at 0x119c5b610>>))\n",
      "INFO DataFile(name='2020/header.csv', metadata=Metadata(name='header.csv', size=9284, year=None, table=<SSDA903TableType.HEADER: <cs_demand_model.data.ssda903.Header object at 0x119c5b640>>))\n",
      "INFO DataFile(name='2020/episodes.csv', metadata=Metadata(name='episodes.csv', size=28729, year=2021, table=<SSDA903TableType.EPISODES: <cs_demand_model.data.ssda903.Episodes object at 0x119c5b610>>))\n",
      "INFO DataFile(name='2018/header.csv', metadata=Metadata(name='header.csv', size=23426, year=None, table=<SSDA903TableType.HEADER: <cs_demand_model.data.ssda903.Header object at 0x119c5b640>>))\n",
      "INFO DataFile(name='2018/episodes.csv', metadata=Metadata(name='episodes.csv', size=69446, year=2019, table=<SSDA903TableType.EPISODES: <cs_demand_model.data.ssda903.Episodes object at 0x119c5b610>>))\n",
      "INFO DataFile(name='2017/header.csv', metadata=Metadata(name='header.csv', size=33527, year=None, table=<SSDA903TableType.HEADER: <cs_demand_model.data.ssda903.Header object at 0x119c5b640>>))\n",
      "INFO DataFile(name='2017/episodes.csv', metadata=Metadata(name='episodes.csv', size=103508, year=2018, table=<SSDA903TableType.EPISODES: <cs_demand_model.data.ssda903.Episodes object at 0x119c5b610>>))\n",
      "INFO DataFile(name='2019/header.csv', metadata=Metadata(name='header.csv', size=14844, year=None, table=<SSDA903TableType.HEADER: <cs_demand_model.data.ssda903.Header object at 0x119c5b640>>))\n",
      "INFO DataFile(name='2019/episodes.csv', metadata=Metadata(name='episodes.csv', size=46259, year=2020, table=<SSDA903TableType.EPISODES: <cs_demand_model.data.ssda903.Episodes object at 0x119c5b610>>))\n",
      "INFO DataFile(name='2021/header.csv', metadata=Metadata(name='header.csv', size=5928, year=None, table=<SSDA903TableType.HEADER: <cs_demand_model.data.ssda903.Header object at 0x119c5b640>>))\n",
      "INFO DataFile(name='2021/episodes.csv', metadata=Metadata(name='episodes.csv', size=18127, year=2022, table=<SSDA903TableType.EPISODES: <cs_demand_model.data.ssda903.Episodes object at 0x119c5b610>>))\n",
      "INFO DataFile(name='2020/header.csv', metadata=Metadata(name='header.csv', size=9284, year=None, table=<SSDA903TableType.HEADER: <cs_demand_model.data.ssda903.Header object at 0x119c5b640>>))\n",
      "INFO DataFile(name='2020/episodes.csv', metadata=Metadata(name='episodes.csv', size=28729, year=2021, table=<SSDA903TableType.EPISODES: <cs_demand_model.data.ssda903.Episodes object at 0x119c5b610>>))\n",
      "INFO DataFile(name='2018/header.csv', metadata=Metadata(name='header.csv', size=23426, year=None, table=<SSDA903TableType.HEADER: <cs_demand_model.data.ssda903.Header object at 0x119c5b640>>))\n",
      "INFO DataFile(name='2018/episodes.csv', metadata=Metadata(name='episodes.csv', size=69446, year=2019, table=<SSDA903TableType.EPISODES: <cs_demand_model.data.ssda903.Episodes object at 0x119c5b610>>))\n",
      "INFO DataFile(name='2017/header.csv', metadata=Metadata(name='header.csv', size=33527, year=None, table=<SSDA903TableType.HEADER: <cs_demand_model.data.ssda903.Header object at 0x119c5b640>>))\n",
      "INFO DataFile(name='2017/episodes.csv', metadata=Metadata(name='episodes.csv', size=103508, year=2018, table=<SSDA903TableType.EPISODES: <cs_demand_model.data.ssda903.Episodes object at 0x119c5b610>>))\n",
      "INFO DataFile(name='2019/header.csv', metadata=Metadata(name='header.csv', size=14844, year=None, table=<SSDA903TableType.HEADER: <cs_demand_model.data.ssda903.Header object at 0x119c5b640>>))\n",
      "INFO DataFile(name='2019/episodes.csv', metadata=Metadata(name='episodes.csv', size=46259, year=2020, table=<SSDA903TableType.EPISODES: <cs_demand_model.data.ssda903.Episodes object at 0x119c5b610>>))\n",
      "INFO DataFile(name='2021/header.csv', metadata=Metadata(name='header.csv', size=5928, year=None, table=<SSDA903TableType.HEADER: <cs_demand_model.data.ssda903.Header object at 0x119c5b640>>))\n",
      "INFO DataFile(name='2021/episodes.csv', metadata=Metadata(name='episodes.csv', size=18127, year=2022, table=<SSDA903TableType.EPISODES: <cs_demand_model.data.ssda903.Episodes object at 0x119c5b610>>))\n",
      "INFO DataFile(name='2020/header.csv', metadata=Metadata(name='header.csv', size=9284, year=None, table=<SSDA903TableType.HEADER: <cs_demand_model.data.ssda903.Header object at 0x119c5b640>>))\n",
      "INFO DataFile(name='2020/episodes.csv', metadata=Metadata(name='episodes.csv', size=28729, year=2021, table=<SSDA903TableType.EPISODES: <cs_demand_model.data.ssda903.Episodes object at 0x119c5b610>>))\n",
      "INFO DataFile(name='2018/header.csv', metadata=Metadata(name='header.csv', size=23426, year=None, table=<SSDA903TableType.HEADER: <cs_demand_model.data.ssda903.Header object at 0x119c5b640>>))\n",
      "INFO DataFile(name='2018/episodes.csv', metadata=Metadata(name='episodes.csv', size=69446, year=2019, table=<SSDA903TableType.EPISODES: <cs_demand_model.data.ssda903.Episodes object at 0x119c5b610>>))\n",
      "INFO DataFile(name='2017/header.csv', metadata=Metadata(name='header.csv', size=33527, year=None, table=<SSDA903TableType.HEADER: <cs_demand_model.data.ssda903.Header object at 0x119c5b640>>))\n",
      "INFO DataFile(name='2017/episodes.csv', metadata=Metadata(name='episodes.csv', size=103508, year=2018, table=<SSDA903TableType.EPISODES: <cs_demand_model.data.ssda903.Episodes object at 0x119c5b610>>))\n",
      "INFO DataFile(name='2019/header.csv', metadata=Metadata(name='header.csv', size=14844, year=None, table=<SSDA903TableType.HEADER: <cs_demand_model.data.ssda903.Header object at 0x119c5b640>>))\n",
      "INFO DataFile(name='2019/episodes.csv', metadata=Metadata(name='episodes.csv', size=46259, year=2020, table=<SSDA903TableType.EPISODES: <cs_demand_model.data.ssda903.Episodes object at 0x119c5b610>>))\n",
      "INFO DataFile(name='2021/header.csv', metadata=Metadata(name='header.csv', size=5928, year=None, table=<SSDA903TableType.HEADER: <cs_demand_model.data.ssda903.Header object at 0x119c5b640>>))\n",
      "INFO DataFile(name='2021/episodes.csv', metadata=Metadata(name='episodes.csv', size=18127, year=2022, table=<SSDA903TableType.EPISODES: <cs_demand_model.data.ssda903.Episodes object at 0x119c5b610>>))\n",
      "INFO DataFile(name='2020/header.csv', metadata=Metadata(name='header.csv', size=9284, year=None, table=<SSDA903TableType.HEADER: <cs_demand_model.data.ssda903.Header object at 0x119c5b640>>))\n",
      "INFO DataFile(name='2020/episodes.csv', metadata=Metadata(name='episodes.csv', size=28729, year=2021, table=<SSDA903TableType.EPISODES: <cs_demand_model.data.ssda903.Episodes object at 0x119c5b610>>))\n",
      "INFO DataFile(name='2018/header.csv', metadata=Metadata(name='header.csv', size=23426, year=None, table=<SSDA903TableType.HEADER: <cs_demand_model.data.ssda903.Header object at 0x119c5b640>>))\n",
      "INFO DataFile(name='2018/episodes.csv', metadata=Metadata(name='episodes.csv', size=69446, year=2019, table=<SSDA903TableType.EPISODES: <cs_demand_model.data.ssda903.Episodes object at 0x119c5b610>>))\n",
      "INFO DataFile(name='2017/header.csv', metadata=Metadata(name='header.csv', size=33527, year=None, table=<SSDA903TableType.HEADER: <cs_demand_model.data.ssda903.Header object at 0x119c5b640>>))\n",
      "INFO DataFile(name='2017/episodes.csv', metadata=Metadata(name='episodes.csv', size=103508, year=2018, table=<SSDA903TableType.EPISODES: <cs_demand_model.data.ssda903.Episodes object at 0x119c5b610>>))\n",
      "INFO DataFile(name='2019/header.csv', metadata=Metadata(name='header.csv', size=14844, year=None, table=<SSDA903TableType.HEADER: <cs_demand_model.data.ssda903.Header object at 0x119c5b640>>))\n",
      "INFO DataFile(name='2019/episodes.csv', metadata=Metadata(name='episodes.csv', size=46259, year=2020, table=<SSDA903TableType.EPISODES: <cs_demand_model.data.ssda903.Episodes object at 0x119c5b610>>))\n",
      "INFO DataFile(name='2021/header.csv', metadata=Metadata(name='header.csv', size=5928, year=None, table=<SSDA903TableType.HEADER: <cs_demand_model.data.ssda903.Header object at 0x119c5b640>>))\n",
      "INFO DataFile(name='2021/episodes.csv', metadata=Metadata(name='episodes.csv', size=18127, year=2022, table=<SSDA903TableType.EPISODES: <cs_demand_model.data.ssda903.Episodes object at 0x119c5b610>>))\n",
      "INFO DataFile(name='2020/header.csv', metadata=Metadata(name='header.csv', size=9284, year=None, table=<SSDA903TableType.HEADER: <cs_demand_model.data.ssda903.Header object at 0x119c5b640>>))\n",
      "INFO DataFile(name='2020/episodes.csv', metadata=Metadata(name='episodes.csv', size=28729, year=2021, table=<SSDA903TableType.EPISODES: <cs_demand_model.data.ssda903.Episodes object at 0x119c5b610>>))\n",
      "INFO DataFile(name='2018/header.csv', metadata=Metadata(name='header.csv', size=23426, year=None, table=<SSDA903TableType.HEADER: <cs_demand_model.data.ssda903.Header object at 0x119c5b640>>))\n",
      "INFO DataFile(name='2018/episodes.csv', metadata=Metadata(name='episodes.csv', size=69446, year=2019, table=<SSDA903TableType.EPISODES: <cs_demand_model.data.ssda903.Episodes object at 0x119c5b610>>))\n"
     ]
    }
   ],
   "source": [
    "%load_ext autoreload\n",
    "%autoreload 2\n",
    "import pandas as pd\n",
    "import numpy as np\n",
    "import matplotlib.pyplot as pp\n",
    "from cs_demand_model import Config, DemandModellingDataContainer, ModelPredictor, PopulationStats, fs_datastore\n",
    "\n",
    "config = Config()\n",
    "datastore = fs_datastore(\"sample://v1.zip\")\n",
    "dc = DemandModellingDataContainer(datastore, config)\n",
    "stats = PopulationStats(dc.enriched_view, config)\n"
   ]
  },
  {
   "cell_type": "code",
   "execution_count": 2,
   "id": "fcbc001b-ce22-40a1-b5ae-2f7b0a61c702",
   "metadata": {},
   "outputs": [
    {
     "data": {
      "text/html": [
       "<div>\n",
       "<style scoped>\n",
       "    .dataframe tbody tr th:only-of-type {\n",
       "        vertical-align: middle;\n",
       "    }\n",
       "\n",
       "    .dataframe tbody tr th {\n",
       "        vertical-align: top;\n",
       "    }\n",
       "\n",
       "    .dataframe thead th {\n",
       "        text-align: right;\n",
       "    }\n",
       "</style>\n",
       "<table border=\"1\" class=\"dataframe\">\n",
       "  <thead>\n",
       "    <tr style=\"text-align: right;\">\n",
       "      <th>bin</th>\n",
       "      <th>(FIVE_TO_TEN, FOSTERING)</th>\n",
       "      <th>(FIVE_TO_TEN, OTHER)</th>\n",
       "      <th>(FIVE_TO_TEN, RESIDENTIAL)</th>\n",
       "      <th>(SIXTEEN_TO_EIGHTEEN, FOSTERING)</th>\n",
       "      <th>(SIXTEEN_TO_EIGHTEEN, OTHER)</th>\n",
       "      <th>(SIXTEEN_TO_EIGHTEEN, RESIDENTIAL)</th>\n",
       "      <th>(SIXTEEN_TO_EIGHTEEN, SUPPORTED)</th>\n",
       "      <th>(TEN_TO_SIXTEEN, FOSTERING)</th>\n",
       "      <th>(TEN_TO_SIXTEEN, OTHER)</th>\n",
       "      <th>(TEN_TO_SIXTEEN, RESIDENTIAL)</th>\n",
       "      <th>(TEN_TO_SIXTEEN, SUPPORTED)</th>\n",
       "    </tr>\n",
       "    <tr>\n",
       "      <th>date</th>\n",
       "      <th></th>\n",
       "      <th></th>\n",
       "      <th></th>\n",
       "      <th></th>\n",
       "      <th></th>\n",
       "      <th></th>\n",
       "      <th></th>\n",
       "      <th></th>\n",
       "      <th></th>\n",
       "      <th></th>\n",
       "      <th></th>\n",
       "    </tr>\n",
       "  </thead>\n",
       "  <tbody>\n",
       "    <tr>\n",
       "      <th>2022-03-23</th>\n",
       "      <td>0.0</td>\n",
       "      <td>0.0</td>\n",
       "      <td>0.0</td>\n",
       "      <td>5.0</td>\n",
       "      <td>2.0</td>\n",
       "      <td>2.0</td>\n",
       "      <td>9.0</td>\n",
       "      <td>49.0</td>\n",
       "      <td>9.0</td>\n",
       "      <td>10.0</td>\n",
       "      <td>0.0</td>\n",
       "    </tr>\n",
       "    <tr>\n",
       "      <th>2022-03-24</th>\n",
       "      <td>0.0</td>\n",
       "      <td>0.0</td>\n",
       "      <td>0.0</td>\n",
       "      <td>5.0</td>\n",
       "      <td>2.0</td>\n",
       "      <td>2.0</td>\n",
       "      <td>9.0</td>\n",
       "      <td>49.0</td>\n",
       "      <td>9.0</td>\n",
       "      <td>10.0</td>\n",
       "      <td>0.0</td>\n",
       "    </tr>\n",
       "    <tr>\n",
       "      <th>2022-03-25</th>\n",
       "      <td>0.0</td>\n",
       "      <td>0.0</td>\n",
       "      <td>0.0</td>\n",
       "      <td>5.0</td>\n",
       "      <td>2.0</td>\n",
       "      <td>2.0</td>\n",
       "      <td>9.0</td>\n",
       "      <td>50.0</td>\n",
       "      <td>8.0</td>\n",
       "      <td>10.0</td>\n",
       "      <td>0.0</td>\n",
       "    </tr>\n",
       "    <tr>\n",
       "      <th>2022-03-26</th>\n",
       "      <td>0.0</td>\n",
       "      <td>0.0</td>\n",
       "      <td>0.0</td>\n",
       "      <td>5.0</td>\n",
       "      <td>2.0</td>\n",
       "      <td>2.0</td>\n",
       "      <td>9.0</td>\n",
       "      <td>50.0</td>\n",
       "      <td>8.0</td>\n",
       "      <td>10.0</td>\n",
       "      <td>0.0</td>\n",
       "    </tr>\n",
       "    <tr>\n",
       "      <th>2022-03-27</th>\n",
       "      <td>0.0</td>\n",
       "      <td>0.0</td>\n",
       "      <td>0.0</td>\n",
       "      <td>5.0</td>\n",
       "      <td>2.0</td>\n",
       "      <td>2.0</td>\n",
       "      <td>9.0</td>\n",
       "      <td>50.0</td>\n",
       "      <td>8.0</td>\n",
       "      <td>10.0</td>\n",
       "      <td>0.0</td>\n",
       "    </tr>\n",
       "  </tbody>\n",
       "</table>\n",
       "</div>"
      ],
      "text/plain": [
       "bin         (FIVE_TO_TEN, FOSTERING)  (FIVE_TO_TEN, OTHER)  \\\n",
       "date                                                         \n",
       "2022-03-23                       0.0                   0.0   \n",
       "2022-03-24                       0.0                   0.0   \n",
       "2022-03-25                       0.0                   0.0   \n",
       "2022-03-26                       0.0                   0.0   \n",
       "2022-03-27                       0.0                   0.0   \n",
       "\n",
       "bin         (FIVE_TO_TEN, RESIDENTIAL)  (SIXTEEN_TO_EIGHTEEN, FOSTERING)  \\\n",
       "date                                                                       \n",
       "2022-03-23                         0.0                               5.0   \n",
       "2022-03-24                         0.0                               5.0   \n",
       "2022-03-25                         0.0                               5.0   \n",
       "2022-03-26                         0.0                               5.0   \n",
       "2022-03-27                         0.0                               5.0   \n",
       "\n",
       "bin         (SIXTEEN_TO_EIGHTEEN, OTHER)  (SIXTEEN_TO_EIGHTEEN, RESIDENTIAL)  \\\n",
       "date                                                                           \n",
       "2022-03-23                           2.0                                 2.0   \n",
       "2022-03-24                           2.0                                 2.0   \n",
       "2022-03-25                           2.0                                 2.0   \n",
       "2022-03-26                           2.0                                 2.0   \n",
       "2022-03-27                           2.0                                 2.0   \n",
       "\n",
       "bin         (SIXTEEN_TO_EIGHTEEN, SUPPORTED)  (TEN_TO_SIXTEEN, FOSTERING)  \\\n",
       "date                                                                        \n",
       "2022-03-23                               9.0                         49.0   \n",
       "2022-03-24                               9.0                         49.0   \n",
       "2022-03-25                               9.0                         50.0   \n",
       "2022-03-26                               9.0                         50.0   \n",
       "2022-03-27                               9.0                         50.0   \n",
       "\n",
       "bin         (TEN_TO_SIXTEEN, OTHER)  (TEN_TO_SIXTEEN, RESIDENTIAL)  \\\n",
       "date                                                                 \n",
       "2022-03-23                      9.0                           10.0   \n",
       "2022-03-24                      9.0                           10.0   \n",
       "2022-03-25                      8.0                           10.0   \n",
       "2022-03-26                      8.0                           10.0   \n",
       "2022-03-27                      8.0                           10.0   \n",
       "\n",
       "bin         (TEN_TO_SIXTEEN, SUPPORTED)  \n",
       "date                                     \n",
       "2022-03-23                          0.0  \n",
       "2022-03-24                          0.0  \n",
       "2022-03-25                          0.0  \n",
       "2022-03-26                          0.0  \n",
       "2022-03-27                          0.0  "
      ]
     },
     "execution_count": 2,
     "metadata": {},
     "output_type": "execute_result"
    }
   ],
   "source": [
    "stats.stock.tail()"
   ]
  },
  {
   "cell_type": "code",
   "execution_count": 3,
   "id": "e5165070-5f7e-4be7-9962-274c91b51ff9",
   "metadata": {},
   "outputs": [
    {
     "data": {
      "text/plain": [
       "start_bin                           end_bin                           \n",
       "(FIVE_TO_TEN, FOSTERING)            (FIVE_TO_TEN, FOSTERING)              0.002984\n",
       "                                    (FIVE_TO_TEN, NOT_IN_CARE)            0.000615\n",
       "                                    (FIVE_TO_TEN, OTHER)                  0.000180\n",
       "                                    (FIVE_TO_TEN, RESIDENTIAL)            0.000270\n",
       "(FIVE_TO_TEN, OTHER)                (FIVE_TO_TEN, FOSTERING)              0.000000\n",
       "                                    (FIVE_TO_TEN, NOT_IN_CARE)            0.000000\n",
       "                                    (FIVE_TO_TEN, OTHER)                  0.005405\n",
       "                                    (FIVE_TO_TEN, RESIDENTIAL)            0.000000\n",
       "(FIVE_TO_TEN, RESIDENTIAL)          (FIVE_TO_TEN, FOSTERING)              0.000000\n",
       "                                    (FIVE_TO_TEN, NOT_IN_CARE)            0.001351\n",
       "                                    (FIVE_TO_TEN, OTHER)                  0.000000\n",
       "                                    (FIVE_TO_TEN, RESIDENTIAL)            0.001351\n",
       "(SIXTEEN_TO_EIGHTEEN, FOSTERING)    (SIXTEEN_TO_EIGHTEEN, FOSTERING)      0.002048\n",
       "                                    (SIXTEEN_TO_EIGHTEEN, NOT_IN_CARE)    0.002048\n",
       "                                    (SIXTEEN_TO_EIGHTEEN, OTHER)          0.000000\n",
       "                                    (SIXTEEN_TO_EIGHTEEN, RESIDENTIAL)    0.000000\n",
       "                                    (SIXTEEN_TO_EIGHTEEN, SUPPORTED)      0.000000\n",
       "(SIXTEEN_TO_EIGHTEEN, OTHER)        (SIXTEEN_TO_EIGHTEEN, FOSTERING)      0.000000\n",
       "                                    (SIXTEEN_TO_EIGHTEEN, NOT_IN_CARE)    0.002649\n",
       "                                    (SIXTEEN_TO_EIGHTEEN, OTHER)          0.003668\n",
       "                                    (SIXTEEN_TO_EIGHTEEN, RESIDENTIAL)    0.000000\n",
       "                                    (SIXTEEN_TO_EIGHTEEN, SUPPORTED)      0.000000\n",
       "(SIXTEEN_TO_EIGHTEEN, RESIDENTIAL)  (SIXTEEN_TO_EIGHTEEN, FOSTERING)      0.000000\n",
       "                                    (SIXTEEN_TO_EIGHTEEN, NOT_IN_CARE)    0.000000\n",
       "                                    (SIXTEEN_TO_EIGHTEEN, OTHER)          0.000000\n",
       "                                    (SIXTEEN_TO_EIGHTEEN, RESIDENTIAL)    0.000000\n",
       "                                    (SIXTEEN_TO_EIGHTEEN, SUPPORTED)      0.005405\n",
       "(SIXTEEN_TO_EIGHTEEN, SUPPORTED)    (SIXTEEN_TO_EIGHTEEN, FOSTERING)      0.000360\n",
       "                                    (SIXTEEN_TO_EIGHTEEN, NOT_IN_CARE)    0.002694\n",
       "                                    (SIXTEEN_TO_EIGHTEEN, OTHER)          0.000360\n",
       "                                    (SIXTEEN_TO_EIGHTEEN, RESIDENTIAL)    0.000000\n",
       "                                    (SIXTEEN_TO_EIGHTEEN, SUPPORTED)      0.004610\n",
       "(TEN_TO_SIXTEEN, FOSTERING)         (TEN_TO_SIXTEEN, FOSTERING)           0.002789\n",
       "                                    (TEN_TO_SIXTEEN, NOT_IN_CARE)         0.001416\n",
       "                                    (TEN_TO_SIXTEEN, OTHER)               0.000396\n",
       "                                    (TEN_TO_SIXTEEN, RESIDENTIAL)         0.000376\n",
       "                                    (TEN_TO_SIXTEEN, SUPPORTED)           0.000216\n",
       "(TEN_TO_SIXTEEN, OTHER)             (TEN_TO_SIXTEEN, FOSTERING)           0.000257\n",
       "                                    (TEN_TO_SIXTEEN, NOT_IN_CARE)         0.001289\n",
       "                                    (TEN_TO_SIXTEEN, OTHER)               0.001306\n",
       "                                    (TEN_TO_SIXTEEN, RESIDENTIAL)         0.000270\n",
       "                                    (TEN_TO_SIXTEEN, SUPPORTED)           0.000257\n",
       "(TEN_TO_SIXTEEN, RESIDENTIAL)       (TEN_TO_SIXTEEN, FOSTERING)           0.000811\n",
       "                                    (TEN_TO_SIXTEEN, NOT_IN_CARE)         0.000986\n",
       "                                    (TEN_TO_SIXTEEN, OTHER)               0.000000\n",
       "                                    (TEN_TO_SIXTEEN, RESIDENTIAL)         0.002195\n",
       "                                    (TEN_TO_SIXTEEN, SUPPORTED)           0.000000\n",
       "(TEN_TO_SIXTEEN, SUPPORTED)         (TEN_TO_SIXTEEN, FOSTERING)           0.005405\n",
       "                                    (TEN_TO_SIXTEEN, NOT_IN_CARE)         0.000000\n",
       "Name: transition_rate, dtype: float64"
      ]
     },
     "execution_count": 3,
     "metadata": {},
     "output_type": "execute_result"
    }
   ],
   "source": [
    "from datetime import date\n",
    "stats.raw_transition_rates(date(2019,7,1), date(2020,1,1))"
   ]
  },
  {
   "cell_type": "markdown",
   "id": "70864b94-b90a-4efb-8491-9a22c90f091f",
   "metadata": {},
   "source": [
    "From this we can now run a model prediction to see how the population evolves. \n",
    "As we covered in the data analysis documentation, we need to provide a start and end date for the analysis window."
   ]
  },
  {
   "cell_type": "code",
   "execution_count": 4,
   "id": "35ed3310-5094-4078-94bd-c92f483258d3",
   "metadata": {},
   "outputs": [],
   "source": [
    "start_date, end_date = pd.to_datetime('2019-07-01'), pd.to_datetime('2020-01-01')\n",
    "predictor = ModelPredictor.from_model(stats, start_date, end_date)"
   ]
  },
  {
   "cell_type": "markdown",
   "id": "64cb3a49-9e49-4d3a-aea2-a589f117f2c8",
   "metadata": {},
   "source": [
    "The predictor is an iterative model that has a state and can return the predictor for the next period. \n",
    "\n",
    "To see the current population, in this case the starting population from the model, view the `initial_population`:"
   ]
  },
  {
   "cell_type": "code",
   "execution_count": 5,
   "id": "0539bfc6-bc4d-4c2f-9937-330eeaeaa158",
   "metadata": {},
   "outputs": [
    {
     "data": {
      "text/plain": [
       "bin\n",
       "(FIVE_TO_TEN, FOSTERING)               23.0\n",
       "(FIVE_TO_TEN, OTHER)                    0.0\n",
       "(FIVE_TO_TEN, RESIDENTIAL)              3.0\n",
       "(SIXTEEN_TO_EIGHTEEN, FOSTERING)        9.0\n",
       "(SIXTEEN_TO_EIGHTEEN, OTHER)            7.0\n",
       "(SIXTEEN_TO_EIGHTEEN, RESIDENTIAL)      1.0\n",
       "(SIXTEEN_TO_EIGHTEEN, SUPPORTED)       14.0\n",
       "(TEN_TO_SIXTEEN, FOSTERING)           130.0\n",
       "(TEN_TO_SIXTEEN, OTHER)                23.0\n",
       "(TEN_TO_SIXTEEN, RESIDENTIAL)          31.0\n",
       "(TEN_TO_SIXTEEN, SUPPORTED)             0.0\n",
       "Name: 2020-01-01 00:00:00, dtype: float64"
      ]
     },
     "execution_count": 5,
     "metadata": {},
     "output_type": "execute_result"
    }
   ],
   "source": [
    "predictor.initial_population"
   ]
  },
  {
   "cell_type": "code",
   "execution_count": 6,
   "id": "ef291b95-17dc-4ed7-8229-e1555f1ecc9d",
   "metadata": {},
   "outputs": [
    {
     "data": {
      "text/plain": [
       "from                           to                              \n",
       "(BIRTH_TO_ONE, FOSTERING)      (ONE_TO_FIVE, FOSTERING)            0.002740\n",
       "(BIRTH_TO_ONE, NOT_IN_CARE)    (ONE_TO_FIVE, NOT_IN_CARE)          0.002740\n",
       "(BIRTH_TO_ONE, OTHER)          (ONE_TO_FIVE, OTHER)                0.002740\n",
       "(BIRTH_TO_ONE, RESIDENTIAL)    (ONE_TO_FIVE, RESIDENTIAL)          0.002740\n",
       "(BIRTH_TO_ONE, SUPPORTED)      (ONE_TO_FIVE, SUPPORTED)            0.002740\n",
       "                                                                     ...   \n",
       "(TEN_TO_SIXTEEN, RESIDENTIAL)  (TEN_TO_SIXTEEN, RESIDENTIAL)       0.002195\n",
       "                               (TEN_TO_SIXTEEN, SUPPORTED)         0.000000\n",
       "(TEN_TO_SIXTEEN, SUPPORTED)    (SIXTEEN_TO_EIGHTEEN, SUPPORTED)    0.000457\n",
       "                               (TEN_TO_SIXTEEN, FOSTERING)         0.005405\n",
       "                               (TEN_TO_SIXTEEN, NOT_IN_CARE)       0.000000\n",
       "Length: 74, dtype: float64"
      ]
     },
     "execution_count": 6,
     "metadata": {},
     "output_type": "execute_result"
    }
   ],
   "source": [
    "predictor.transition_rates"
   ]
  },
  {
   "cell_type": "code",
   "execution_count": 7,
   "id": "d593d439-2fcd-4082-9f68-787d11998937",
   "metadata": {},
   "outputs": [
    {
     "data": {
      "text/plain": [
       "from                           to                              \n",
       "()                             (FIVE_TO_TEN, FOSTERING)            0.005435\n",
       "                               (TEN_TO_SIXTEEN, FOSTERING)         0.021739\n",
       "(BIRTH_TO_ONE, FOSTERING)      (ONE_TO_FIVE, FOSTERING)            0.002740\n",
       "(BIRTH_TO_ONE, NOT_IN_CARE)    (ONE_TO_FIVE, NOT_IN_CARE)          0.002740\n",
       "(BIRTH_TO_ONE, OTHER)          (ONE_TO_FIVE, OTHER)                0.002740\n",
       "                                                                     ...   \n",
       "(TEN_TO_SIXTEEN, RESIDENTIAL)  (TEN_TO_SIXTEEN, RESIDENTIAL)       0.002195\n",
       "                               (TEN_TO_SIXTEEN, SUPPORTED)         0.000000\n",
       "(TEN_TO_SIXTEEN, SUPPORTED)    (SIXTEEN_TO_EIGHTEEN, SUPPORTED)    0.000457\n",
       "                               (TEN_TO_SIXTEEN, FOSTERING)         0.005405\n",
       "                               (TEN_TO_SIXTEEN, NOT_IN_CARE)       0.000000\n",
       "Length: 76, dtype: float64"
      ]
     },
     "execution_count": 7,
     "metadata": {},
     "output_type": "execute_result"
    }
   ],
   "source": [
    "tn, tr = predictor.transition_numbers.align(predictor.transition_rates)\n",
    "tn.fillna(0) + tr.fillna(0)"
   ]
  },
  {
   "cell_type": "markdown",
   "id": "061492d7-0e61-4b9c-a84a-18dca4aff668",
   "metadata": {},
   "source": [
    "We can now ask for the next population:"
   ]
  },
  {
   "cell_type": "code",
   "execution_count": 8,
   "id": "6d1aeffc-e53f-4ac4-b533-baf131fffe48",
   "metadata": {},
   "outputs": [
    {
     "data": {
      "text/plain": [
       "from\n",
       "()                                      0.006067\n",
       "(BIRTH_TO_ONE, FOSTERING)               0.000000\n",
       "(BIRTH_TO_ONE, NOT_IN_CARE)             0.000000\n",
       "(BIRTH_TO_ONE, OTHER)                   0.000000\n",
       "(BIRTH_TO_ONE, RESIDENTIAL)             0.000000\n",
       "(BIRTH_TO_ONE, SUPPORTED)               0.000000\n",
       "(FIVE_TO_TEN, FOSTERING)               22.968327\n",
       "(FIVE_TO_TEN, NOT_IN_CARE)              0.018195\n",
       "(FIVE_TO_TEN, OTHER)                    0.004144\n",
       "(FIVE_TO_TEN, RESIDENTIAL)              3.000522\n",
       "(FIVE_TO_TEN, SUPPORTED)                0.000000\n",
       "(ONE_TO_FIVE, FOSTERING)                0.000000\n",
       "(ONE_TO_FIVE, NOT_IN_CARE)              0.000000\n",
       "(ONE_TO_FIVE, OTHER)                    0.000000\n",
       "(ONE_TO_FIVE, RESIDENTIAL)              0.000000\n",
       "(ONE_TO_FIVE, SUPPORTED)                0.000000\n",
       "(SIXTEEN_TO_EIGHTEEN, FOSTERING)        9.044208\n",
       "(SIXTEEN_TO_EIGHTEEN, NOT_IN_CARE)      0.074696\n",
       "(SIXTEEN_TO_EIGHTEEN, OTHER)            6.995634\n",
       "(SIXTEEN_TO_EIGHTEEN, RESIDENTIAL)      1.008554\n",
       "(SIXTEEN_TO_EIGHTEEN, SUPPORTED)       13.954860\n",
       "(TEN_TO_SIXTEEN, FOSTERING)           129.693574\n",
       "(TEN_TO_SIXTEEN, NOT_IN_CARE)           0.244334\n",
       "(TEN_TO_SIXTEEN, OTHER)                22.993247\n",
       "(TEN_TO_SIXTEEN, RESIDENTIAL)          30.986872\n",
       "(TEN_TO_SIXTEEN, SUPPORTED)             0.033940\n",
       "Name: 2020-01-02 00:00:00, dtype: float64"
      ]
     },
     "execution_count": 8,
     "metadata": {},
     "output_type": "execute_result"
    }
   ],
   "source": [
    "predictor = predictor.next()\n",
    "predictor.initial_population"
   ]
  },
  {
   "cell_type": "markdown",
   "id": "a1243b99-fbc1-411c-b8c8-70a1d7a34ae8",
   "metadata": {},
   "source": [
    "You can run the above block multiple times to see the population change. To reset, go back and create a new predictor from the initial state. \n",
    "\n",
    "Since we usually want to run multiple iterations in one simple operations, there is also a utility method on the predictor to run *n* generations and return a dataframe of all the populations. You can add progress=True to get a progress bar so you have something to enjoy watching while you make a cup of tea..."
   ]
  },
  {
   "cell_type": "code",
   "execution_count": 87,
   "id": "89f9b22d-2429-4683-b29e-380fd5b68ada",
   "metadata": {},
   "outputs": [
    {
     "name": "stderr",
     "output_type": "stream",
     "text": [
      "2019-09: 100%|█████████████████████████████████████████████████████████████████████████████████████████████████████████████████████████████████████████████████████████████████████| 72/72 [00:01<00:00, 60.68it/s]\n"
     ]
    }
   ],
   "source": [
    "start_date, end_date = pd.to_datetime('2017-07-01'), pd.to_datetime('2017-10-01')\n",
    "\n",
    "predictor = ModelPredictor.from_model(stats, start_date, end_date)\n",
    "predicted_pop = predictor.predict(72, progress=True, step_days=10)  # Predict 720 days forward\n",
    "del predicted_pop[tuple()]\n",
    "\n",
    "historic_pop = stats.stock.loc[:end_date]\n",
    "\n",
    "predicted_pop, historic_pop = predicted_pop.align(historic_pop, axis=1, fill_value=0)\n",
    "combined_pop = pd.concat([historic_pop, predicted_pop], axis=0)\n",
    "combined_pop.columns = pd.MultiIndex.from_tuples(combined_pop.columns)\n",
    "\n",
    "# Remove this to see individual sequences\n",
    "# combined_pop = combined_pop.groupby(level=1, axis=1).sum()\n"
   ]
  },
  {
   "cell_type": "code",
   "execution_count": 88,
   "id": "27bba04d-611d-4723-8f64-5851bb356548",
   "metadata": {},
   "outputs": [
    {
     "data": {
      "image/png": "[encoded data removed]",
      "text/plain": [
       "<Figure size 640x480 with 1 Axes>"
      ]
     },
     "metadata": {},
     "output_type": "display_data"
    }
   ],
   "source": [
    "combined_pop.plot.line(legend=False)\n",
    "pp.axvline(end_date, alpha=0.4)\n",
    "pp.axvspan(start_date, end_date, alpha=0.1)\n",
    "pp.show()"
   ]
  },
  {
   "cell_type": "code",
   "execution_count": 92,
   "id": "d42eff54-3434-41c8-b12d-4174a23b84d8",
   "metadata": {},
   "outputs": [
    {
     "data": {
      "image/png": "[encoded data removed]",
      "text/plain": [
       "<Figure size 640x480 with 1 Axes>"
      ]
     },
     "metadata": {},
     "output_type": "display_data"
    }
   ],
   "source": [
    "combined_pop.groupby(level=1, axis=1).sum().plot.line(legend=False)\n",
    "pp.axvline(end_date, alpha=0.4)\n",
    "pp.axvspan(start_date, end_date, alpha=0.1)\n",
    "pp.show()"
   ]
  },
  {
   "cell_type": "code",
   "execution_count": 90,
   "id": "aeb697e3-a8f6-4b16-91f1-413612671b57",
   "metadata": {},
   "outputs": [
    {
     "name": "stderr",
     "output_type": "stream",
     "text": [
      "2019-09: 100%|███████████████████████████████████████████████████████████████████████████████████████████████████████████████████████████████████████████████████████████████████████| 8/8 [00:00<00:00, 47.37it/s]\n"
     ]
    },
    {
     "ename": "ValueError",
     "evalue": "no types given",
     "output_type": "error",
     "traceback": [
      "\u001b[0;31m---------------------------------------------------------------------------\u001b[0m",
      "\u001b[0;31mValueError\u001b[0m                                Traceback (most recent call last)",
      "Cell \u001b[0;32mIn[90], line 7\u001b[0m\n\u001b[1;32m      5\u001b[0m predicted_pop \u001b[38;5;241m=\u001b[39m predictor\u001b[38;5;241m.\u001b[39mpredict(\u001b[38;5;241m720\u001b[39m \u001b[38;5;241m/\u001b[39m\u001b[38;5;241m/\u001b[39m step_days, step_days\u001b[38;5;241m=\u001b[39mstep_days, progress\u001b[38;5;241m=\u001b[39m\u001b[38;5;28;01mTrue\u001b[39;00m)  \u001b[38;5;66;03m# Predict 720 days forward\u001b[39;00m\n\u001b[1;32m      6\u001b[0m historic_pop \u001b[38;5;241m=\u001b[39m stats\u001b[38;5;241m.\u001b[39mstock\u001b[38;5;241m.\u001b[39mloc[:end_date]\n\u001b[0;32m----> 7\u001b[0m combined_pop \u001b[38;5;241m=\u001b[39m \u001b[43mpd\u001b[49m\u001b[38;5;241;43m.\u001b[39;49m\u001b[43mconcat\u001b[49m\u001b[43m(\u001b[49m\u001b[43m[\u001b[49m\u001b[43mhistoric_pop\u001b[49m\u001b[43m,\u001b[49m\u001b[43m \u001b[49m\u001b[43mpredicted_pop\u001b[49m\u001b[43m]\u001b[49m\u001b[43m,\u001b[49m\u001b[43m \u001b[49m\u001b[43maxis\u001b[49m\u001b[38;5;241;43m=\u001b[39;49m\u001b[38;5;241;43m0\u001b[39;49m\u001b[43m)\u001b[49m\n\u001b[1;32m      8\u001b[0m combined_pop\u001b[38;5;241m.\u001b[39mcolumns \u001b[38;5;241m=\u001b[39m pd\u001b[38;5;241m.\u001b[39mMultiIndex\u001b[38;5;241m.\u001b[39mfrom_tuples(combined_pop\u001b[38;5;241m.\u001b[39mcolumns)\n\u001b[1;32m     10\u001b[0m \u001b[38;5;66;03m# Remove this to see individual sequences\u001b[39;00m\n",
      "File \u001b[0;32m~/Library/Caches/pypoetry/virtualenvs/cs-demand-model-3oa9h3tv-py3.10/lib/python3.10/site-packages/pandas/util/_decorators.py:311\u001b[0m, in \u001b[0;36mdeprecate_nonkeyword_arguments.<locals>.decorate.<locals>.wrapper\u001b[0;34m(*args, **kwargs)\u001b[0m\n\u001b[1;32m    305\u001b[0m \u001b[38;5;28;01mif\u001b[39;00m \u001b[38;5;28mlen\u001b[39m(args) \u001b[38;5;241m>\u001b[39m num_allow_args:\n\u001b[1;32m    306\u001b[0m     warnings\u001b[38;5;241m.\u001b[39mwarn(\n\u001b[1;32m    307\u001b[0m         msg\u001b[38;5;241m.\u001b[39mformat(arguments\u001b[38;5;241m=\u001b[39marguments),\n\u001b[1;32m    308\u001b[0m         \u001b[38;5;167;01mFutureWarning\u001b[39;00m,\n\u001b[1;32m    309\u001b[0m         stacklevel\u001b[38;5;241m=\u001b[39mstacklevel,\n\u001b[1;32m    310\u001b[0m     )\n\u001b[0;32m--> 311\u001b[0m \u001b[38;5;28;01mreturn\u001b[39;00m \u001b[43mfunc\u001b[49m\u001b[43m(\u001b[49m\u001b[38;5;241;43m*\u001b[39;49m\u001b[43margs\u001b[49m\u001b[43m,\u001b[49m\u001b[43m \u001b[49m\u001b[38;5;241;43m*\u001b[39;49m\u001b[38;5;241;43m*\u001b[39;49m\u001b[43mkwargs\u001b[49m\u001b[43m)\u001b[49m\n",
      "File \u001b[0;32m~/Library/Caches/pypoetry/virtualenvs/cs-demand-model-3oa9h3tv-py3.10/lib/python3.10/site-packages/pandas/core/reshape/concat.py:360\u001b[0m, in \u001b[0;36mconcat\u001b[0;34m(objs, axis, join, ignore_index, keys, levels, names, verify_integrity, sort, copy)\u001b[0m\n\u001b[1;32m    156\u001b[0m \u001b[38;5;250m\u001b[39m\u001b[38;5;124;03m\"\"\"\u001b[39;00m\n\u001b[1;32m    157\u001b[0m \u001b[38;5;124;03mConcatenate pandas objects along a particular axis with optional set logic\u001b[39;00m\n\u001b[1;32m    158\u001b[0m \u001b[38;5;124;03malong the other axes.\u001b[39;00m\n\u001b[0;32m   (...)\u001b[0m\n\u001b[1;32m    345\u001b[0m \u001b[38;5;124;03mValueError: Indexes have overlapping values: ['a']\u001b[39;00m\n\u001b[1;32m    346\u001b[0m \u001b[38;5;124;03m\"\"\"\u001b[39;00m\n\u001b[1;32m    347\u001b[0m op \u001b[38;5;241m=\u001b[39m _Concatenator(\n\u001b[1;32m    348\u001b[0m     objs,\n\u001b[1;32m    349\u001b[0m     axis\u001b[38;5;241m=\u001b[39maxis,\n\u001b[0;32m   (...)\u001b[0m\n\u001b[1;32m    357\u001b[0m     sort\u001b[38;5;241m=\u001b[39msort,\n\u001b[1;32m    358\u001b[0m )\n\u001b[0;32m--> 360\u001b[0m \u001b[38;5;28;01mreturn\u001b[39;00m \u001b[43mop\u001b[49m\u001b[38;5;241;43m.\u001b[39;49m\u001b[43mget_result\u001b[49m\u001b[43m(\u001b[49m\u001b[43m)\u001b[49m\n",
      "File \u001b[0;32m~/Library/Caches/pypoetry/virtualenvs/cs-demand-model-3oa9h3tv-py3.10/lib/python3.10/site-packages/pandas/core/reshape/concat.py:595\u001b[0m, in \u001b[0;36m_Concatenator.get_result\u001b[0;34m(self)\u001b[0m\n\u001b[1;32m    591\u001b[0m             indexers[ax] \u001b[38;5;241m=\u001b[39m obj_labels\u001b[38;5;241m.\u001b[39mget_indexer(new_labels)\n\u001b[1;32m    593\u001b[0m     mgrs_indexers\u001b[38;5;241m.\u001b[39mappend((obj\u001b[38;5;241m.\u001b[39m_mgr, indexers))\n\u001b[0;32m--> 595\u001b[0m new_data \u001b[38;5;241m=\u001b[39m \u001b[43mconcatenate_managers\u001b[49m\u001b[43m(\u001b[49m\n\u001b[1;32m    596\u001b[0m \u001b[43m    \u001b[49m\u001b[43mmgrs_indexers\u001b[49m\u001b[43m,\u001b[49m\u001b[43m \u001b[49m\u001b[38;5;28;43mself\u001b[39;49m\u001b[38;5;241;43m.\u001b[39;49m\u001b[43mnew_axes\u001b[49m\u001b[43m,\u001b[49m\u001b[43m \u001b[49m\u001b[43mconcat_axis\u001b[49m\u001b[38;5;241;43m=\u001b[39;49m\u001b[38;5;28;43mself\u001b[39;49m\u001b[38;5;241;43m.\u001b[39;49m\u001b[43mbm_axis\u001b[49m\u001b[43m,\u001b[49m\u001b[43m \u001b[49m\u001b[43mcopy\u001b[49m\u001b[38;5;241;43m=\u001b[39;49m\u001b[38;5;28;43mself\u001b[39;49m\u001b[38;5;241;43m.\u001b[39;49m\u001b[43mcopy\u001b[49m\n\u001b[1;32m    597\u001b[0m \u001b[43m\u001b[49m\u001b[43m)\u001b[49m\n\u001b[1;32m    598\u001b[0m \u001b[38;5;28;01mif\u001b[39;00m \u001b[38;5;129;01mnot\u001b[39;00m \u001b[38;5;28mself\u001b[39m\u001b[38;5;241m.\u001b[39mcopy:\n\u001b[1;32m    599\u001b[0m     new_data\u001b[38;5;241m.\u001b[39m_consolidate_inplace()\n",
      "File \u001b[0;32m~/Library/Caches/pypoetry/virtualenvs/cs-demand-model-3oa9h3tv-py3.10/lib/python3.10/site-packages/pandas/core/internals/concat.py:241\u001b[0m, in \u001b[0;36mconcatenate_managers\u001b[0;34m(mgrs_indexers, axes, concat_axis, copy)\u001b[0m\n\u001b[1;32m    239\u001b[0m     fastpath \u001b[38;5;241m=\u001b[39m blk\u001b[38;5;241m.\u001b[39mvalues\u001b[38;5;241m.\u001b[39mdtype \u001b[38;5;241m==\u001b[39m values\u001b[38;5;241m.\u001b[39mdtype\n\u001b[1;32m    240\u001b[0m \u001b[38;5;28;01melse\u001b[39;00m:\n\u001b[0;32m--> 241\u001b[0m     values \u001b[38;5;241m=\u001b[39m \u001b[43m_concatenate_join_units\u001b[49m\u001b[43m(\u001b[49m\u001b[43mjoin_units\u001b[49m\u001b[43m,\u001b[49m\u001b[43m \u001b[49m\u001b[43mcopy\u001b[49m\u001b[38;5;241;43m=\u001b[39;49m\u001b[43mcopy\u001b[49m\u001b[43m)\u001b[49m\n\u001b[1;32m    242\u001b[0m     fastpath \u001b[38;5;241m=\u001b[39m \u001b[38;5;28;01mFalse\u001b[39;00m\n\u001b[1;32m    244\u001b[0m \u001b[38;5;28;01mif\u001b[39;00m fastpath:\n",
      "File \u001b[0;32m~/Library/Caches/pypoetry/virtualenvs/cs-demand-model-3oa9h3tv-py3.10/lib/python3.10/site-packages/pandas/core/internals/concat.py:463\u001b[0m, in \u001b[0;36m_concatenate_join_units\u001b[0;34m(join_units, copy)\u001b[0m\n\u001b[1;32m    458\u001b[0m \u001b[38;5;28;01mdef\u001b[39;00m \u001b[38;5;21m_concatenate_join_units\u001b[39m(join_units: \u001b[38;5;28mlist\u001b[39m[JoinUnit], copy: \u001b[38;5;28mbool\u001b[39m) \u001b[38;5;241m-\u001b[39m\u001b[38;5;241m>\u001b[39m ArrayLike:\n\u001b[1;32m    459\u001b[0m \u001b[38;5;250m    \u001b[39m\u001b[38;5;124;03m\"\"\"\u001b[39;00m\n\u001b[1;32m    460\u001b[0m \u001b[38;5;124;03m    Concatenate values from several join units along axis=1.\u001b[39;00m\n\u001b[1;32m    461\u001b[0m \u001b[38;5;124;03m    \"\"\"\u001b[39;00m\n\u001b[0;32m--> 463\u001b[0m     empty_dtype \u001b[38;5;241m=\u001b[39m \u001b[43m_get_empty_dtype\u001b[49m\u001b[43m(\u001b[49m\u001b[43mjoin_units\u001b[49m\u001b[43m)\u001b[49m\n\u001b[1;32m    465\u001b[0m     to_concat \u001b[38;5;241m=\u001b[39m [ju\u001b[38;5;241m.\u001b[39mget_reindexed_values(empty_dtype\u001b[38;5;241m=\u001b[39mempty_dtype) \u001b[38;5;28;01mfor\u001b[39;00m ju \u001b[38;5;129;01min\u001b[39;00m join_units]\n\u001b[1;32m    467\u001b[0m     \u001b[38;5;28;01mif\u001b[39;00m \u001b[38;5;28mlen\u001b[39m(to_concat) \u001b[38;5;241m==\u001b[39m \u001b[38;5;241m1\u001b[39m:\n\u001b[1;32m    468\u001b[0m         \u001b[38;5;66;03m# Only one block, nothing to concatenate.\u001b[39;00m\n",
      "File \u001b[0;32m~/Library/Caches/pypoetry/virtualenvs/cs-demand-model-3oa9h3tv-py3.10/lib/python3.10/site-packages/pandas/core/internals/concat.py:542\u001b[0m, in \u001b[0;36m_get_empty_dtype\u001b[0;34m(join_units)\u001b[0m\n\u001b[1;32m    538\u001b[0m needs_can_hold_na \u001b[38;5;241m=\u001b[39m \u001b[38;5;28many\u001b[39m(unit\u001b[38;5;241m.\u001b[39mis_na \u001b[38;5;28;01mfor\u001b[39;00m unit \u001b[38;5;129;01min\u001b[39;00m join_units)\n\u001b[1;32m    540\u001b[0m dtypes \u001b[38;5;241m=\u001b[39m [unit\u001b[38;5;241m.\u001b[39mblock\u001b[38;5;241m.\u001b[39mdtype \u001b[38;5;28;01mfor\u001b[39;00m unit \u001b[38;5;129;01min\u001b[39;00m join_units \u001b[38;5;28;01mif\u001b[39;00m \u001b[38;5;129;01mnot\u001b[39;00m unit\u001b[38;5;241m.\u001b[39mis_na]\n\u001b[0;32m--> 542\u001b[0m dtype \u001b[38;5;241m=\u001b[39m \u001b[43mfind_common_type\u001b[49m\u001b[43m(\u001b[49m\u001b[43mdtypes\u001b[49m\u001b[43m)\u001b[49m\n\u001b[1;32m    543\u001b[0m \u001b[38;5;28;01mif\u001b[39;00m needs_can_hold_na:\n\u001b[1;32m    544\u001b[0m     dtype \u001b[38;5;241m=\u001b[39m ensure_dtype_can_hold_na(dtype)\n",
      "File \u001b[0;32m~/Library/Caches/pypoetry/virtualenvs/cs-demand-model-3oa9h3tv-py3.10/lib/python3.10/site-packages/pandas/core/dtypes/cast.py:1807\u001b[0m, in \u001b[0;36mfind_common_type\u001b[0;34m(types)\u001b[0m\n\u001b[1;32m   1790\u001b[0m \u001b[38;5;250m\u001b[39m\u001b[38;5;124;03m\"\"\"\u001b[39;00m\n\u001b[1;32m   1791\u001b[0m \u001b[38;5;124;03mFind a common data type among the given dtypes.\u001b[39;00m\n\u001b[1;32m   1792\u001b[0m \n\u001b[0;32m   (...)\u001b[0m\n\u001b[1;32m   1804\u001b[0m \n\u001b[1;32m   1805\u001b[0m \u001b[38;5;124;03m\"\"\"\u001b[39;00m\n\u001b[1;32m   1806\u001b[0m \u001b[38;5;28;01mif\u001b[39;00m \u001b[38;5;129;01mnot\u001b[39;00m types:\n\u001b[0;32m-> 1807\u001b[0m     \u001b[38;5;28;01mraise\u001b[39;00m \u001b[38;5;167;01mValueError\u001b[39;00m(\u001b[38;5;124m\"\u001b[39m\u001b[38;5;124mno types given\u001b[39m\u001b[38;5;124m\"\u001b[39m)\n\u001b[1;32m   1809\u001b[0m first \u001b[38;5;241m=\u001b[39m types[\u001b[38;5;241m0\u001b[39m]\n\u001b[1;32m   1811\u001b[0m \u001b[38;5;66;03m# workaround for find_common_type([np.dtype('datetime64[ns]')] * 2)\u001b[39;00m\n\u001b[1;32m   1812\u001b[0m \u001b[38;5;66;03m# => object\u001b[39;00m\n",
      "\u001b[0;31mValueError\u001b[0m: no types given"
     ]
    }
   ],
   "source": [
    "predictor = ModelPredictor.from_model(stats, start_date, end_date)\n",
    "\n",
    "step_days = 90\n",
    "\n",
    "predicted_pop = predictor.predict(720 // step_days, step_days=step_days, progress=True)  # Predict 720 days forward\n",
    "historic_pop = stats.stock.loc[:end_date]\n",
    "combined_pop = pd.concat([historic_pop, predicted_pop], axis=0)\n",
    "combined_pop.columns = pd.MultiIndex.from_tuples(combined_pop.columns)\n",
    "\n",
    "# Remove this to see individual sequences\n",
    "combined_pop = combined_pop.groupby(level=1, axis=1).sum()\n",
    "combined_pop"
   ]
  },
  {
   "cell_type": "code",
   "execution_count": null,
   "id": "8129de11-17a1-40e4-839b-9b7d5e3d122d",
   "metadata": {},
   "outputs": [],
   "source": [
    "combined_pop.plot(legend=False)\n",
    "pp.axvline(end_date, alpha=0.4)\n",
    "pp.axvspan(start_date, end_date, alpha=0.1)\n",
    "pp.show()"
   ]
  },
  {
   "cell_type": "code",
   "execution_count": null,
   "id": "f1054159-7d6e-486e-b1b7-5977b0f85c6e",
   "metadata": {},
   "outputs": [],
   "source": []
  },
  {
   "cell_type": "code",
   "execution_count": null,
   "id": "e109f833-2b38-4c09-9217-55f931c52533",
   "metadata": {},
   "outputs": [],
   "source": []
  }
 ],
 "metadata": {
  "kernelspec": {
   "display_name": "Python 3 (ipykernel)",
   "language": "python",
   "name": "python3"
  },
  "language_info": {
   "codemirror_mode": {
    "name": "ipython",
    "version": 3
   },
   "file_extension": ".py",
   "mimetype": "text/x-python",
   "name": "python",
   "nbconvert_exporter": "python",
   "pygments_lexer": "ipython3",
   "version": "3.10.2"
  }
 },
 "nbformat": 4,
 "nbformat_minor": 5
}

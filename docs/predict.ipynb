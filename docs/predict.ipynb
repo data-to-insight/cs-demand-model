{
 "cells": [
  {
   "cell_type": "markdown",
   "id": "08718d60-e700-4a2b-8b50-71c8f1ee06c0",
   "metadata": {},
   "source": [
    "# Predicting future demand\n",
    "\n",
    "The predict cycle takes as input the model generated in the [data analysis](./data-analysis.ipynb) stage. \n",
    "\n",
    "Using the transition rates and new entry rates as well as a starting population, the model iterates day-by-day to see how the population changes over time. \n",
    "\n",
    "We start off by calculating our population statistics:"
   ]
  },
  {
   "cell_type": "code",
   "execution_count": 1,
   "id": "fb77fab0-a2cf-4126-a459-2ddb0a44dc7e",
   "metadata": {},
   "outputs": [
    {
     "name": "stdout",
     "output_type": "stream",
     "text": [
      "The autoreload extension is already loaded. To reload it, use:\n",
      "  %reload_ext autoreload\n"
     ]
    }
   ],
   "source": [
    "%load_ext autoreload\n",
    "%autoreload 2\n",
    "import pandas as pd\n",
    "import numpy as np\n",
    "import matplotlib.pyplot as pp\n",
    "from cs_demand_model import Config, DemandModellingDataContainer, ModelPredictor, PopulationStats, fs_datastore\n",
    "\n",
    "config = Config()\n",
    "datastore = fs_datastore(\"sample://v1.zip\")\n",
    "dc = DemandModellingDataContainer(datastore, config)\n",
    "stats = PopulationStats(dc.enriched_view, config)\n"
   ]
  },
  {
   "cell_type": "markdown",
   "id": "70864b94-b90a-4efb-8491-9a22c90f091f",
   "metadata": {},
   "source": [
    "From this we can now run a model prediction to see how the population evolves. \n",
    "As we covered in the data analysis documentation, we need to provide a start and end date for the analysis window."
   ]
  },
  {
   "cell_type": "code",
   "execution_count": 2,
   "id": "35ed3310-5094-4078-94bd-c92f483258d3",
   "metadata": {},
   "outputs": [],
   "source": [
    "start_date, end_date = pd.to_datetime('2019-07-01'), pd.to_datetime('2020-01-01')\n",
    "predictor = ModelPredictor.from_model(stats, start_date, end_date)"
   ]
  },
  {
   "cell_type": "markdown",
   "id": "64cb3a49-9e49-4d3a-aea2-a589f117f2c8",
   "metadata": {},
   "source": [
    "The predictor is an iterative model that has a state and can return the predictor for the next period. \n",
    "\n",
    "To see the current population, in this case the starting population from the model, view the `initial_population`:"
   ]
  },
  {
   "cell_type": "code",
   "execution_count": 3,
   "id": "0539bfc6-bc4d-4c2f-9937-330eeaeaa158",
   "metadata": {},
   "outputs": [
    {
     "data": {
      "text/plain": [
       "age_bin     placement_type\n",
       "Birth to 1  Foster              0.0\n",
       "            Other               0.0\n",
       "1 to 5      Foster              0.0\n",
       "            Other               0.0\n",
       "5 to 10     Foster             23.0\n",
       "            Resi                3.0\n",
       "            Other               0.0\n",
       "10 to 16    Foster            130.0\n",
       "            Resi               31.0\n",
       "            Other              23.0\n",
       "16 to 18+   Foster              9.0\n",
       "            Resi                1.0\n",
       "            Supported          14.0\n",
       "            Other               7.0\n",
       "Name: 2020-01-01 00:00:00, dtype: float64"
      ]
     },
     "execution_count": 3,
     "metadata": {},
     "output_type": "execute_result"
    }
   ],
   "source": [
    "predictor.initial_population"
   ]
  },
  {
   "cell_type": "markdown",
   "id": "061492d7-0e61-4b9c-a84a-18dca4aff668",
   "metadata": {},
   "source": [
    "We can now ask for the next population:"
   ]
  },
  {
   "cell_type": "code",
   "execution_count": 4,
   "id": "6d1aeffc-e53f-4ac4-b533-baf131fffe48",
   "metadata": {},
   "outputs": [
    {
     "data": {
      "text/plain": [
       "age_bin     placement_type\n",
       "Birth to 1  Foster              0.000000\n",
       "            Other               0.000000\n",
       "            Resi                0.000000\n",
       "            Supported           0.000000\n",
       "1 to 5      Foster              0.000000\n",
       "            Other               0.000000\n",
       "            Resi                0.000000\n",
       "            Supported           0.000000\n",
       "5 to 10     Foster             22.968340\n",
       "            Other               0.000000\n",
       "            Resi                2.994304\n",
       "            Supported           0.000000\n",
       "10 to 16    Foster            129.690642\n",
       "            Other              22.947726\n",
       "            Resi               30.931805\n",
       "            Supported           0.000000\n",
       "16 to 18+   Foster              9.039045\n",
       "            Other               6.990565\n",
       "            Resi                1.008479\n",
       "            Supported          13.949464\n",
       "Name: 2020-01-02 00:00:00, dtype: float64"
      ]
     },
     "execution_count": 4,
     "metadata": {},
     "output_type": "execute_result"
    }
   ],
   "source": [
    "predictor = predictor.next()\n",
    "predictor.initial_population"
   ]
  },
  {
   "cell_type": "markdown",
   "id": "a1243b99-fbc1-411c-b8c8-70a1d7a34ae8",
   "metadata": {},
   "source": [
    "You can run the above block multiple times to see the population change. To reset, go back and create a new predictor from the initial state. \n",
    "\n",
    "Since we usually want to run multiple iterations in one simple operations, there is also a utility method on the predictor to run *n* generations and return a dataframe of all the populations. You can add progress=True to get a progress bar so you have something to enjoy watching while you make a cup of tea..."
   ]
  },
  {
   "cell_type": "code",
   "execution_count": 36,
   "id": "89f9b22d-2429-4683-b29e-380fd5b68ada",
   "metadata": {},
   "outputs": [
    {
     "name": "stderr",
     "output_type": "stream",
     "text": [
      "2021-12: 100%|███████████████████████████████████████████████████████████████████████████████████████████████████████████████████████████████████████████████████████████████████████████████████████████████████| 720/720 [00:19<00:00, 36.23it/s]\n"
     ]
    },
    {
     "data": {
      "text/html": [
       "<div>\n",
       "<style scoped>\n",
       "    .dataframe tbody tr th:only-of-type {\n",
       "        vertical-align: middle;\n",
       "    }\n",
       "\n",
       "    .dataframe tbody tr th {\n",
       "        vertical-align: top;\n",
       "    }\n",
       "\n",
       "    .dataframe thead th {\n",
       "        text-align: right;\n",
       "    }\n",
       "</style>\n",
       "<table border=\"1\" class=\"dataframe\">\n",
       "  <thead>\n",
       "    <tr style=\"text-align: right;\">\n",
       "      <th>placement_type</th>\n",
       "      <th>Foster</th>\n",
       "      <th>Other</th>\n",
       "      <th>Resi</th>\n",
       "      <th>Supported</th>\n",
       "    </tr>\n",
       "  </thead>\n",
       "  <tbody>\n",
       "    <tr>\n",
       "      <th>2020-01-02</th>\n",
       "      <td>161.698027</td>\n",
       "      <td>29.938290</td>\n",
       "      <td>34.934588</td>\n",
       "      <td>13.949464</td>\n",
       "    </tr>\n",
       "    <tr>\n",
       "      <th>2020-01-03</th>\n",
       "      <td>161.396678</td>\n",
       "      <td>29.876702</td>\n",
       "      <td>34.869258</td>\n",
       "      <td>13.899110</td>\n",
       "    </tr>\n",
       "    <tr>\n",
       "      <th>2020-01-04</th>\n",
       "      <td>161.095950</td>\n",
       "      <td>29.815236</td>\n",
       "      <td>34.804012</td>\n",
       "      <td>13.848937</td>\n",
       "    </tr>\n",
       "    <tr>\n",
       "      <th>2020-01-05</th>\n",
       "      <td>160.795842</td>\n",
       "      <td>29.753891</td>\n",
       "      <td>34.738849</td>\n",
       "      <td>13.798946</td>\n",
       "    </tr>\n",
       "    <tr>\n",
       "      <th>2020-01-06</th>\n",
       "      <td>160.496354</td>\n",
       "      <td>29.692667</td>\n",
       "      <td>34.673769</td>\n",
       "      <td>13.749136</td>\n",
       "    </tr>\n",
       "    <tr>\n",
       "      <th>...</th>\n",
       "      <td>...</td>\n",
       "      <td>...</td>\n",
       "      <td>...</td>\n",
       "      <td>...</td>\n",
       "    </tr>\n",
       "    <tr>\n",
       "      <th>2021-12-17</th>\n",
       "      <td>48.790459</td>\n",
       "      <td>6.630264</td>\n",
       "      <td>8.003926</td>\n",
       "      <td>1.051066</td>\n",
       "    </tr>\n",
       "    <tr>\n",
       "      <th>2021-12-18</th>\n",
       "      <td>48.721015</td>\n",
       "      <td>6.616037</td>\n",
       "      <td>7.986829</td>\n",
       "      <td>1.047272</td>\n",
       "    </tr>\n",
       "    <tr>\n",
       "      <th>2021-12-19</th>\n",
       "      <td>48.651712</td>\n",
       "      <td>6.601840</td>\n",
       "      <td>7.969768</td>\n",
       "      <td>1.043491</td>\n",
       "    </tr>\n",
       "    <tr>\n",
       "      <th>2021-12-20</th>\n",
       "      <td>48.582550</td>\n",
       "      <td>6.587673</td>\n",
       "      <td>7.952743</td>\n",
       "      <td>1.039725</td>\n",
       "    </tr>\n",
       "    <tr>\n",
       "      <th>2021-12-21</th>\n",
       "      <td>48.513529</td>\n",
       "      <td>6.573536</td>\n",
       "      <td>7.935754</td>\n",
       "      <td>1.035972</td>\n",
       "    </tr>\n",
       "  </tbody>\n",
       "</table>\n",
       "<p>720 rows × 4 columns</p>\n",
       "</div>"
      ],
      "text/plain": [
       "placement_type      Foster      Other       Resi  Supported\n",
       "2020-01-02      161.698027  29.938290  34.934588  13.949464\n",
       "2020-01-03      161.396678  29.876702  34.869258  13.899110\n",
       "2020-01-04      161.095950  29.815236  34.804012  13.848937\n",
       "2020-01-05      160.795842  29.753891  34.738849  13.798946\n",
       "2020-01-06      160.496354  29.692667  34.673769  13.749136\n",
       "...                    ...        ...        ...        ...\n",
       "2021-12-17       48.790459   6.630264   8.003926   1.051066\n",
       "2021-12-18       48.721015   6.616037   7.986829   1.047272\n",
       "2021-12-19       48.651712   6.601840   7.969768   1.043491\n",
       "2021-12-20       48.582550   6.587673   7.952743   1.039725\n",
       "2021-12-21       48.513529   6.573536   7.935754   1.035972\n",
       "\n",
       "[720 rows x 4 columns]"
      ]
     },
     "execution_count": 36,
     "metadata": {},
     "output_type": "execute_result"
    }
   ],
   "source": [
    "predictor = ModelPredictor.from_model(stats, start_date, end_date)\n",
    "predicted_pop = predictor.predict(720, progress=True)  # Predict 720 days forward\n",
    "predicted_pop.groupby(level=1, axis=1).sum()"
   ]
  },
  {
   "cell_type": "code",
   "execution_count": 34,
   "id": "27bba04d-611d-4723-8f64-5851bb356548",
   "metadata": {},
   "outputs": [
    {
     "data": {
      "image/png": "[encoded data removed]",
      "text/plain": [
       "<Figure size 640x480 with 1 Axes>"
      ]
     },
     "metadata": {},
     "output_type": "display_data"
    }
   ],
   "source": [
    "historic_pop = stats.stock.loc[:end_date]\n",
    "combined_pop = pd.concat([historic_pop, predicted_pop], axis=0)\n",
    "\n",
    "# Remove this to see individual sequences\n",
    "combined_pop = combined_pop.groupby(level=1, axis=1).sum()\n",
    "\n",
    "combined_pop.plot(legend=False)\n",
    "pp.axvline(end_date, alpha=0.4)\n",
    "pp.axvspan(start_date, end_date, alpha=0.1)\n",
    "pp.show()"
   ]
  },
  {
   "cell_type": "code",
   "execution_count": 35,
   "id": "aeb697e3-a8f6-4b16-91f1-413612671b57",
   "metadata": {},
   "outputs": [
    {
     "name": "stderr",
     "output_type": "stream",
     "text": [
      "2021-12: 100%|█████████████████████████████████████████████████████████████████████████████████████████████████████████████████████████████████████████████████████████████████████████████████████████████████████| 72/72 [00:02<00:00, 34.49it/s]\n"
     ]
    },
    {
     "data": {
      "text/html": [
       "<div>\n",
       "<style scoped>\n",
       "    .dataframe tbody tr th:only-of-type {\n",
       "        vertical-align: middle;\n",
       "    }\n",
       "\n",
       "    .dataframe tbody tr th {\n",
       "        vertical-align: top;\n",
       "    }\n",
       "\n",
       "    .dataframe thead th {\n",
       "        text-align: right;\n",
       "    }\n",
       "</style>\n",
       "<table border=\"1\" class=\"dataframe\">\n",
       "  <thead>\n",
       "    <tr style=\"text-align: right;\">\n",
       "      <th>placement_type</th>\n",
       "      <th>Foster</th>\n",
       "      <th>Other</th>\n",
       "      <th>Resi</th>\n",
       "      <th>Supported</th>\n",
       "    </tr>\n",
       "  </thead>\n",
       "  <tbody>\n",
       "    <tr>\n",
       "      <th>2020-01-11</th>\n",
       "      <td>158.980070</td>\n",
       "      <td>29.382442</td>\n",
       "      <td>34.341309</td>\n",
       "      <td>13.495478</td>\n",
       "    </tr>\n",
       "    <tr>\n",
       "      <th>2020-01-21</th>\n",
       "      <td>156.022478</td>\n",
       "      <td>28.777112</td>\n",
       "      <td>33.691356</td>\n",
       "      <td>13.009137</td>\n",
       "    </tr>\n",
       "    <tr>\n",
       "      <th>2020-01-31</th>\n",
       "      <td>153.125928</td>\n",
       "      <td>28.183784</td>\n",
       "      <td>33.050263</td>\n",
       "      <td>12.540323</td>\n",
       "    </tr>\n",
       "    <tr>\n",
       "      <th>2020-02-10</th>\n",
       "      <td>150.289152</td>\n",
       "      <td>27.602233</td>\n",
       "      <td>32.418133</td>\n",
       "      <td>12.088404</td>\n",
       "    </tr>\n",
       "    <tr>\n",
       "      <th>2020-02-20</th>\n",
       "      <td>147.510908</td>\n",
       "      <td>27.032240</td>\n",
       "      <td>31.795048</td>\n",
       "      <td>11.652771</td>\n",
       "    </tr>\n",
       "    <tr>\n",
       "      <th>...</th>\n",
       "      <td>...</td>\n",
       "      <td>...</td>\n",
       "      <td>...</td>\n",
       "      <td>...</td>\n",
       "    </tr>\n",
       "    <tr>\n",
       "      <th>2021-11-11</th>\n",
       "      <td>50.929782</td>\n",
       "      <td>7.066765</td>\n",
       "      <td>8.522432</td>\n",
       "      <td>1.154048</td>\n",
       "    </tr>\n",
       "    <tr>\n",
       "      <th>2021-11-21</th>\n",
       "      <td>50.192312</td>\n",
       "      <td>6.915428</td>\n",
       "      <td>8.340853</td>\n",
       "      <td>1.112459</td>\n",
       "    </tr>\n",
       "    <tr>\n",
       "      <th>2021-12-01</th>\n",
       "      <td>49.469860</td>\n",
       "      <td>6.767271</td>\n",
       "      <td>8.163094</td>\n",
       "      <td>1.072369</td>\n",
       "    </tr>\n",
       "    <tr>\n",
       "      <th>2021-12-11</th>\n",
       "      <td>48.762114</td>\n",
       "      <td>6.622229</td>\n",
       "      <td>7.989078</td>\n",
       "      <td>1.033724</td>\n",
       "    </tr>\n",
       "    <tr>\n",
       "      <th>2021-12-21</th>\n",
       "      <td>48.068772</td>\n",
       "      <td>6.480238</td>\n",
       "      <td>7.818728</td>\n",
       "      <td>0.996471</td>\n",
       "    </tr>\n",
       "  </tbody>\n",
       "</table>\n",
       "<p>72 rows × 4 columns</p>\n",
       "</div>"
      ],
      "text/plain": [
       "placement_type      Foster      Other       Resi  Supported\n",
       "2020-01-11      158.980070  29.382442  34.341309  13.495478\n",
       "2020-01-21      156.022478  28.777112  33.691356  13.009137\n",
       "2020-01-31      153.125928  28.183784  33.050263  12.540323\n",
       "2020-02-10      150.289152  27.602233  32.418133  12.088404\n",
       "2020-02-20      147.510908  27.032240  31.795048  11.652771\n",
       "...                    ...        ...        ...        ...\n",
       "2021-11-11       50.929782   7.066765   8.522432   1.154048\n",
       "2021-11-21       50.192312   6.915428   8.340853   1.112459\n",
       "2021-12-01       49.469860   6.767271   8.163094   1.072369\n",
       "2021-12-11       48.762114   6.622229   7.989078   1.033724\n",
       "2021-12-21       48.068772   6.480238   7.818728   0.996471\n",
       "\n",
       "[72 rows x 4 columns]"
      ]
     },
     "execution_count": 35,
     "metadata": {},
     "output_type": "execute_result"
    }
   ],
   "source": [
    "predictor = ModelPredictor.from_model(stats, start_date, end_date)\n",
    "predicted_pop = predictor.predict(72, step_days=10, progress=True)  # Predict 720 days forward\n",
    "predicted_pop.groupby(level=1, axis=1).sum()"
   ]
  },
  {
   "cell_type": "code",
   "execution_count": 33,
   "id": "8129de11-17a1-40e4-839b-9b7d5e3d122d",
   "metadata": {},
   "outputs": [
    {
     "data": {
      "image/png": "[encoded data removed]",
      "text/plain": [
       "<Figure size 640x480 with 1 Axes>"
      ]
     },
     "metadata": {},
     "output_type": "display_data"
    }
   ],
   "source": [
    "historic_pop = stats.stock.loc[:end_date]\n",
    "combined_pop = pd.concat([historic_pop, predicted_pop], axis=0)\n",
    "\n",
    "# Remove this to see individual sequences\n",
    "combined_pop = combined_pop.groupby(level=1, axis=1).sum()\n",
    "\n",
    "combined_pop.plot(legend=False)\n",
    "pp.axvline(end_date, alpha=0.4)\n",
    "pp.axvspan(start_date, end_date, alpha=0.1)\n",
    "pp.show()"
   ]
  },
  {
   "cell_type": "code",
   "execution_count": null,
   "id": "c26400ef-b0aa-4a95-a1a1-65604c4bf041",
   "metadata": {},
   "outputs": [],
   "source": []
  }
 ],
 "metadata": {
  "kernelspec": {
   "display_name": "Python 3 (ipykernel)",
   "language": "python",
   "name": "python3"
  },
  "language_info": {
   "codemirror_mode": {
    "name": "ipython",
    "version": 3
   },
   "file_extension": ".py",
   "mimetype": "text/x-python",
   "name": "python",
   "nbconvert_exporter": "python",
   "pygments_lexer": "ipython3",
   "version": "3.10.6"
  }
 },
 "nbformat": 4,
 "nbformat_minor": 5
}
